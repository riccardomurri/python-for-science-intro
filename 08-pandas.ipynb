{
 "cells": [
  {
   "cell_type": "markdown",
   "metadata": {
    "slideshow": {
     "slide_type": "skip"
    }
   },
   "source": [
    "<a rel=\"license\" href=\"http://creativecommons.org/licenses/by-sa/4.0/\"><img alt=\"Creative Commons License\" style=\"border-width:0\" src=\"https://i.creativecommons.org/l/by-sa/4.0/80x15.png\" /></a><div align=\"center\">This work is licensed under a <a rel=\"license\" href=\"http://creativecommons.org/licenses/by-sa/4.0/\">Creative Commons Attribution-ShareAlike 4.0 International License</a>.</div>"
   ]
  },
  {
   "cell_type": "markdown",
   "metadata": {
    "slideshow": {
     "slide_type": "slide"
    }
   },
   "source": [
    "# Data Analysis with Pandas\n",
    "\n",
    "[Pandas](https://pandas.pydata.org/) is an open source, BSD-licensed library providing high-performance, easy-to-use data structures and data analysis tools for the Python programming language."
   ]
  },
  {
   "cell_type": "markdown",
   "metadata": {
    "slideshow": {
     "slide_type": "slide"
    }
   },
   "source": [
    "We are going to use data produced by the [TissueMAPS](http://tissuemaps.org/) software.\n",
    "\n",
    "The following data files should be available alongside this notebook:\n",
    "```\n",
    "BIO325_CRISPR_Yap_p1_D07_Cells_metadata.csv\n",
    "BIO325_CRISPR_Yap_p1_D07_Cells_feature-values.csv.gz\n",
    "BIO325_CRISPR_Yap_p1_D08_Cells_metadata.csv\n",
    "BIO325_CRISPR_Yap_p1_D08_Cells_feature-values.csv.gz\n",
    "BIO325_CRISPR_Yap_p1_D09_Cells_metadata.csv\n",
    "BIO325_CRISPR_Yap_p1_D09_Cells_feature-values.csv.gz\n",
    "BIO325_CRISPR_Yap_p1_D10_Cells_metadata.csv\n",
    "BIO325_CRISPR_Yap_p1_D10_Cells_feature-values.csv.gz\n",
    "```\n",
    "\n",
    "Both *metadata* and *feature-value* [CSV](https://en.wikipedia.org/wiki/Comma-separated_values) files contain data about single cells computed from microscope images; each cell is assigned an ID (unique per \"well\" -- wells are assigned identifiers like \"D07\" or \"D10\"), which matches across the two files.\n",
    "\n",
    "We can use PanDas to inspect the contents of these files and perform some statistics and plotting."
   ]
  },
  {
   "cell_type": "markdown",
   "metadata": {
    "slideshow": {
     "slide_type": "slide"
    }
   },
   "source": [
    "## Preamble\n",
    "\n",
    "Before using PanDas, we must import it.  PanDas depends on NumPy and can interchange data with it, so let's import both of them using abbreviated names."
   ]
  },
  {
   "cell_type": "code",
   "execution_count": 1,
   "metadata": {
    "slideshow": {
     "slide_type": "-"
    }
   },
   "outputs": [],
   "source": [
    "import numpy as np\n",
    "import pandas as pd"
   ]
  },
  {
   "cell_type": "markdown",
   "metadata": {
    "slideshow": {
     "slide_type": "skip"
    }
   },
   "source": [
    "Evaluating the following cell allows us to display plots *in* the Python notebook:"
   ]
  },
  {
   "cell_type": "code",
   "execution_count": 2,
   "metadata": {
    "slideshow": {
     "slide_type": "skip"
    }
   },
   "outputs": [],
   "source": [
    "%matplotlib inline\n",
    "\n",
    "import matplotlib.pyplot as plt\n",
    "import seaborn as sea\n",
    "\n",
    "# make large figures so we can appreciate details\n",
    "plt.rc('figure', figsize=(20.0, 15.0))\n",
    "\n",
    "# use visual style like R's ggplot2\n",
    "sea.set_style('darkgrid')"
   ]
  },
  {
   "cell_type": "markdown",
   "metadata": {
    "slideshow": {
     "slide_type": "slide"
    }
   },
   "source": [
    "## Load data"
   ]
  },
  {
   "cell_type": "markdown",
   "metadata": {},
   "source": [
    "We can use Panda's `read_csv()` function to read a CSV file into a Python data structure: "
   ]
  },
  {
   "cell_type": "code",
   "execution_count": 3,
   "metadata": {},
   "outputs": [],
   "source": [
    "# \"metadata\" file for well D10\n",
    "md10 = pd.read_csv(\"BIO325_CRISPR_Yap_p1_D10_Cells_metadata.csv\")"
   ]
  },
  {
   "cell_type": "code",
   "execution_count": 4,
   "metadata": {},
   "outputs": [],
   "source": [
    "# \"feature values\" for well D10 -- note we read a compressed file!\n",
    "fv10 = pd.read_csv('BIO325_CRISPR_Yap_p1_D10_Cells_feature-values.csv.gz')"
   ]
  },
  {
   "cell_type": "markdown",
   "metadata": {
    "slideshow": {
     "slide_type": "slide"
    }
   },
   "source": [
    "The return object from `read_csv()` is a `DataFrame` object, which displays nicely in the notebook as tabular data:"
   ]
  },
  {
   "cell_type": "code",
   "execution_count": 5,
   "metadata": {},
   "outputs": [
    {
     "data": {
      "text/html": [
       "<div>\n",
       "<style scoped>\n",
       "    .dataframe tbody tr th:only-of-type {\n",
       "        vertical-align: middle;\n",
       "    }\n",
       "\n",
       "    .dataframe tbody tr th {\n",
       "        vertical-align: top;\n",
       "    }\n",
       "\n",
       "    .dataframe thead th {\n",
       "        text-align: right;\n",
       "    }\n",
       "</style>\n",
       "<table border=\"1\" class=\"dataframe\">\n",
       "  <thead>\n",
       "    <tr style=\"text-align: right;\">\n",
       "      <th></th>\n",
       "      <th>mapobject_id</th>\n",
       "      <th>plate_name</th>\n",
       "      <th>well_name</th>\n",
       "      <th>well_pos_y</th>\n",
       "      <th>well_pos_x</th>\n",
       "      <th>tpoint</th>\n",
       "      <th>zplane</th>\n",
       "      <th>label</th>\n",
       "      <th>is_border</th>\n",
       "      <th>Classification-5</th>\n",
       "      <th>TPlus</th>\n",
       "    </tr>\n",
       "  </thead>\n",
       "  <tbody>\n",
       "    <tr>\n",
       "      <th>0</th>\n",
       "      <td>491297</td>\n",
       "      <td>p1</td>\n",
       "      <td>D10</td>\n",
       "      <td>0</td>\n",
       "      <td>0</td>\n",
       "      <td>0</td>\n",
       "      <td>0</td>\n",
       "      <td>1</td>\n",
       "      <td>1</td>\n",
       "      <td>0.0</td>\n",
       "      <td>0.0</td>\n",
       "    </tr>\n",
       "    <tr>\n",
       "      <th>1</th>\n",
       "      <td>491298</td>\n",
       "      <td>p1</td>\n",
       "      <td>D10</td>\n",
       "      <td>0</td>\n",
       "      <td>0</td>\n",
       "      <td>0</td>\n",
       "      <td>0</td>\n",
       "      <td>2</td>\n",
       "      <td>1</td>\n",
       "      <td>0.0</td>\n",
       "      <td>0.0</td>\n",
       "    </tr>\n",
       "    <tr>\n",
       "      <th>2</th>\n",
       "      <td>491299</td>\n",
       "      <td>p1</td>\n",
       "      <td>D10</td>\n",
       "      <td>0</td>\n",
       "      <td>0</td>\n",
       "      <td>0</td>\n",
       "      <td>0</td>\n",
       "      <td>3</td>\n",
       "      <td>1</td>\n",
       "      <td>0.0</td>\n",
       "      <td>0.0</td>\n",
       "    </tr>\n",
       "    <tr>\n",
       "      <th>3</th>\n",
       "      <td>491300</td>\n",
       "      <td>p1</td>\n",
       "      <td>D10</td>\n",
       "      <td>0</td>\n",
       "      <td>0</td>\n",
       "      <td>0</td>\n",
       "      <td>0</td>\n",
       "      <td>4</td>\n",
       "      <td>1</td>\n",
       "      <td>0.0</td>\n",
       "      <td>0.0</td>\n",
       "    </tr>\n",
       "    <tr>\n",
       "      <th>4</th>\n",
       "      <td>491301</td>\n",
       "      <td>p1</td>\n",
       "      <td>D10</td>\n",
       "      <td>0</td>\n",
       "      <td>0</td>\n",
       "      <td>0</td>\n",
       "      <td>0</td>\n",
       "      <td>5</td>\n",
       "      <td>1</td>\n",
       "      <td>0.0</td>\n",
       "      <td>0.0</td>\n",
       "    </tr>\n",
       "  </tbody>\n",
       "</table>\n",
       "</div>"
      ],
      "text/plain": [
       "   mapobject_id plate_name well_name  well_pos_y  well_pos_x  tpoint  zplane  \\\n",
       "0        491297         p1       D10           0           0       0       0   \n",
       "1        491298         p1       D10           0           0       0       0   \n",
       "2        491299         p1       D10           0           0       0       0   \n",
       "3        491300         p1       D10           0           0       0       0   \n",
       "4        491301         p1       D10           0           0       0       0   \n",
       "\n",
       "   label  is_border  Classification-5  TPlus  \n",
       "0      1          1               0.0    0.0  \n",
       "1      2          1               0.0    0.0  \n",
       "2      3          1               0.0    0.0  \n",
       "3      4          1               0.0    0.0  \n",
       "4      5          1               0.0    0.0  "
      ]
     },
     "execution_count": 5,
     "metadata": {},
     "output_type": "execute_result"
    }
   ],
   "source": [
    "md10[:5]  # display the first 5 rows"
   ]
  },
  {
   "cell_type": "markdown",
   "metadata": {},
   "source": [
    "Note that the first row of the CSV file was used to name the column, not to provide actual data."
   ]
  },
  {
   "cell_type": "markdown",
   "metadata": {
    "slideshow": {
     "slide_type": "slide"
    }
   },
   "source": [
    "## Access table data"
   ]
  },
  {
   "cell_type": "markdown",
   "metadata": {},
   "source": [
    "A `DataFrame` object as a `.shape` attribute like any 2D NumPy array:"
   ]
  },
  {
   "cell_type": "code",
   "execution_count": 6,
   "metadata": {},
   "outputs": [
    {
     "data": {
      "text/plain": [
       "(30764, 11)"
      ]
     },
     "execution_count": 6,
     "metadata": {},
     "output_type": "execute_result"
    }
   ],
   "source": [
    "md10.shape"
   ]
  },
  {
   "cell_type": "markdown",
   "metadata": {},
   "source": [
    "The above shows that our table has 30764 rows across 11 columns.  \n",
    "\n",
    "**Note: *row index comes first!*** (This will be important when accessing data with numerical indices below.)"
   ]
  },
  {
   "cell_type": "markdown",
   "metadata": {
    "slideshow": {
     "slide_type": "slide"
    }
   },
   "source": [
    "### Read entire columns"
   ]
  },
  {
   "cell_type": "markdown",
   "metadata": {},
   "source": [
    "You can get an *entire column* out of the table, by using Python's `[]` notation with the column name:"
   ]
  },
  {
   "cell_type": "code",
   "execution_count": 7,
   "metadata": {},
   "outputs": [],
   "source": [
    "labels = md10['label']"
   ]
  },
  {
   "cell_type": "code",
   "execution_count": 8,
   "metadata": {},
   "outputs": [
    {
     "data": {
      "text/plain": [
       "0    1\n",
       "1    2\n",
       "2    3\n",
       "3    4\n",
       "4    5\n",
       "Name: label, dtype: int64"
      ]
     },
     "execution_count": 8,
     "metadata": {},
     "output_type": "execute_result"
    }
   ],
   "source": [
    "labels[:5] # print first 5 label values"
   ]
  },
  {
   "cell_type": "markdown",
   "metadata": {
    "slideshow": {
     "slide_type": "slide"
    }
   },
   "source": [
    "A column of a PanDas `DataFrame` is a `pandas.Series` object, which closely resembles a NumPy array.\n",
    "\n",
    "You can use all normal Python and NumPy array methods on it."
   ]
  },
  {
   "cell_type": "code",
   "execution_count": 9,
   "metadata": {},
   "outputs": [
    {
     "data": {
      "text/plain": [
       "30764"
      ]
     },
     "execution_count": 9,
     "metadata": {},
     "output_type": "execute_result"
    }
   ],
   "source": [
    "len(labels)"
   ]
  },
  {
   "cell_type": "code",
   "execution_count": 10,
   "metadata": {},
   "outputs": [
    {
     "data": {
      "text/plain": [
       "19209762"
      ]
     },
     "execution_count": 10,
     "metadata": {},
     "output_type": "execute_result"
    }
   ],
   "source": [
    "sum(labels)"
   ]
  },
  {
   "cell_type": "code",
   "execution_count": 11,
   "metadata": {},
   "outputs": [],
   "source": [
    "unique_labels = np.unique(labels)"
   ]
  },
  {
   "cell_type": "code",
   "execution_count": 12,
   "metadata": {},
   "outputs": [
    {
     "data": {
      "text/plain": [
       "1504"
      ]
     },
     "execution_count": 12,
     "metadata": {},
     "output_type": "execute_result"
    }
   ],
   "source": [
    "len(unique_labels)"
   ]
  },
  {
   "cell_type": "markdown",
   "metadata": {
    "slideshow": {
     "slide_type": "slide"
    }
   },
   "source": [
    "### Read entire rows"
   ]
  },
  {
   "cell_type": "markdown",
   "metadata": {},
   "source": [
    "A single row can be accessed using the [`.loc[]` operator](https://pandas.pydata.org/pandas-docs/stable/generated/pandas.DataFrame.loc.html):"
   ]
  },
  {
   "cell_type": "code",
   "execution_count": 13,
   "metadata": {},
   "outputs": [
    {
     "name": "stdout",
     "output_type": "stream",
     "text": [
      "mapobject_id        491299\n",
      "plate_name              p1\n",
      "well_name              D10\n",
      "well_pos_y               0\n",
      "well_pos_x               0\n",
      "tpoint                   0\n",
      "zplane                   0\n",
      "label                    3\n",
      "is_border                1\n",
      "Classification-5         0\n",
      "TPlus                    0\n",
      "Name: 2, dtype: object\n"
     ]
    }
   ],
   "source": [
    "row2 = md10.loc[2]; print(row2)"
   ]
  },
  {
   "cell_type": "markdown",
   "metadata": {
    "slideshow": {
     "slide_type": "slide"
    }
   },
   "source": [
    "Each row acts as special array, where you can access items by column name *or* by position:"
   ]
  },
  {
   "cell_type": "code",
   "execution_count": 14,
   "metadata": {},
   "outputs": [
    {
     "data": {
      "text/plain": [
       "'D10'"
      ]
     },
     "execution_count": 14,
     "metadata": {},
     "output_type": "execute_result"
    }
   ],
   "source": [
    "row2['well_name']"
   ]
  },
  {
   "cell_type": "code",
   "execution_count": 15,
   "metadata": {},
   "outputs": [
    {
     "data": {
      "text/plain": [
       "'D10'"
      ]
     },
     "execution_count": 15,
     "metadata": {},
     "output_type": "execute_result"
    }
   ],
   "source": [
    "row2[2]"
   ]
  },
  {
   "cell_type": "markdown",
   "metadata": {
    "slideshow": {
     "slide_type": "slide"
    }
   },
   "source": [
    "## Quick computation of basic statistical quantities"
   ]
  },
  {
   "cell_type": "markdown",
   "metadata": {},
   "source": [
    "A `DataFrame`'s `.describe()` method provides a quick statistical summary of the data (but only for *continuous* variables):"
   ]
  },
  {
   "cell_type": "code",
   "execution_count": 16,
   "metadata": {
    "scrolled": true
   },
   "outputs": [
    {
     "name": "stdout",
     "output_type": "stream",
     "text": [
      "count    30764.000000\n",
      "mean       183.510022\n",
      "std         16.797994\n",
      "min        107.724627\n",
      "25%        172.740721\n",
      "50%        182.523436\n",
      "75%        193.056764\n",
      "max        367.000000\n",
      "Name: Intensity_mean_A01_C03, dtype: float64\n"
     ]
    }
   ],
   "source": [
    "stat = fv10['Intensity_mean_A01_C03'].describe()\n",
    "\n",
    "print(stat)"
   ]
  },
  {
   "cell_type": "markdown",
   "metadata": {
    "slideshow": {
     "slide_type": "slide"
    }
   },
   "source": [
    "Note that the value returned by `.describe()` is again a kind of \"row\" object, and you can access individual fields with the `[]` operator:"
   ]
  },
  {
   "cell_type": "code",
   "execution_count": 17,
   "metadata": {},
   "outputs": [
    {
     "data": {
      "text/plain": [
       "217.10600885590281"
      ]
     },
     "execution_count": 17,
     "metadata": {},
     "output_type": "execute_result"
    }
   ],
   "source": [
    "stat['mean'] + 2*stat['std']"
   ]
  },
  {
   "cell_type": "markdown",
   "metadata": {
    "slideshow": {
     "slide_type": "slide"
    }
   },
   "source": [
    "You can compute the very same values (and many others!) by directly applying a NumPy function to the column:"
   ]
  },
  {
   "cell_type": "code",
   "execution_count": 18,
   "metadata": {},
   "outputs": [
    {
     "data": {
      "text/plain": [
       "182.523436"
      ]
     },
     "execution_count": 18,
     "metadata": {},
     "output_type": "execute_result"
    }
   ],
   "source": [
    "# compute the median\n",
    "np.median(fv10['Intensity_mean_A01_C03'])"
   ]
  },
  {
   "cell_type": "code",
   "execution_count": 19,
   "metadata": {},
   "outputs": [
    {
     "data": {
      "text/plain": [
       "5.20817002879652"
      ]
     },
     "execution_count": 19,
     "metadata": {},
     "output_type": "execute_result"
    }
   ],
   "source": [
    "# compute the average of the log intensity\n",
    "np.mean(np.log(fv10['Intensity_mean_A01_C03']))"
   ]
  },
  {
   "cell_type": "markdown",
   "metadata": {
    "slideshow": {
     "slide_type": "slide"
    }
   },
   "source": [
    "Note that if a categorical variable (e.g., a yes/no flag) is encoded using numerical values (e.g., `0` and `1`), then PanDas will still happily provide a statistical summary, like it were a continuous variable, but it will *not* be much useful:"
   ]
  },
  {
   "cell_type": "code",
   "execution_count": 20,
   "metadata": {},
   "outputs": [
    {
     "data": {
      "text/plain": [
       "count    30764.000000\n",
       "mean         0.150338\n",
       "std          0.357408\n",
       "min          0.000000\n",
       "25%          0.000000\n",
       "50%          0.000000\n",
       "75%          0.000000\n",
       "max          1.000000\n",
       "Name: TPlus, dtype: float64"
      ]
     },
     "execution_count": 20,
     "metadata": {},
     "output_type": "execute_result"
    }
   ],
   "source": [
    "md10['TPlus'].describe()"
   ]
  },
  {
   "cell_type": "markdown",
   "metadata": {
    "slideshow": {
     "slide_type": "skip"
    }
   },
   "source": [
    "-----"
   ]
  },
  {
   "cell_type": "markdown",
   "metadata": {
    "slideshow": {
     "slide_type": "slide"
    }
   },
   "source": [
    "## Exercise 8.A\n",
    "\n",
    "Load \"metadata\" files into an array `mds` of tables; that is to say, `mds[0]` should be a PanDas `DataFrame` holding the values read from file `BIO325_CRISPR_Yap_p1_D09_Cells_metadata.csv`, `mds[1]` holds values from `BIO325_CRISPR_Yap_p1_D08_Cells_metadata.csv`, and so on.\n",
    "\n",
    "Similarly, load \"feature values\" files into an array of tables `fvs`.\n",
    "\n",
    "How many rows are in each table?"
   ]
  },
  {
   "cell_type": "code",
   "execution_count": 21,
   "metadata": {
    "slideshow": {
     "slide_type": "skip"
    }
   },
   "outputs": [],
   "source": [
    "# your solution here\n",
    "\n",
    "mds = list(map(pd.read_csv, [\n",
    "    'BIO325_CRISPR_Yap_p1_D07_Cells_metadata.csv',\n",
    "    'BIO325_CRISPR_Yap_p1_D08_Cells_metadata.csv',\n",
    "    'BIO325_CRISPR_Yap_p1_D09_Cells_metadata.csv',\n",
    "    'BIO325_CRISPR_Yap_p1_D10_Cells_metadata.csv',\n",
    "]))\n",
    "\n",
    "fvs = list(map(pd.read_csv, [\n",
    "    'BIO325_CRISPR_Yap_p1_D07_Cells_feature-values.csv.gz',\n",
    "    'BIO325_CRISPR_Yap_p1_D08_Cells_feature-values.csv.gz',\n",
    "    'BIO325_CRISPR_Yap_p1_D09_Cells_feature-values.csv.gz',\n",
    "    'BIO325_CRISPR_Yap_p1_D10_Cells_feature-values.csv.gz',\n",
    "]))"
   ]
  },
  {
   "cell_type": "code",
   "execution_count": 22,
   "metadata": {
    "slideshow": {
     "slide_type": "skip"
    }
   },
   "outputs": [
    {
     "data": {
      "text/html": [
       "<div>\n",
       "<style scoped>\n",
       "    .dataframe tbody tr th:only-of-type {\n",
       "        vertical-align: middle;\n",
       "    }\n",
       "\n",
       "    .dataframe tbody tr th {\n",
       "        vertical-align: top;\n",
       "    }\n",
       "\n",
       "    .dataframe thead th {\n",
       "        text-align: right;\n",
       "    }\n",
       "</style>\n",
       "<table border=\"1\" class=\"dataframe\">\n",
       "  <thead>\n",
       "    <tr style=\"text-align: right;\">\n",
       "      <th></th>\n",
       "      <th>mapobject_id</th>\n",
       "      <th>plate_name</th>\n",
       "      <th>well_name</th>\n",
       "      <th>well_pos_y</th>\n",
       "      <th>well_pos_x</th>\n",
       "      <th>tpoint</th>\n",
       "      <th>zplane</th>\n",
       "      <th>label</th>\n",
       "      <th>is_border</th>\n",
       "      <th>Classification-5</th>\n",
       "      <th>TPlus</th>\n",
       "    </tr>\n",
       "  </thead>\n",
       "  <tbody>\n",
       "    <tr>\n",
       "      <th>0</th>\n",
       "      <td>512061</td>\n",
       "      <td>p1</td>\n",
       "      <td>D08</td>\n",
       "      <td>0</td>\n",
       "      <td>0</td>\n",
       "      <td>0</td>\n",
       "      <td>0</td>\n",
       "      <td>1</td>\n",
       "      <td>1</td>\n",
       "      <td>0.0</td>\n",
       "      <td>0.0</td>\n",
       "    </tr>\n",
       "    <tr>\n",
       "      <th>1</th>\n",
       "      <td>512062</td>\n",
       "      <td>p1</td>\n",
       "      <td>D08</td>\n",
       "      <td>0</td>\n",
       "      <td>0</td>\n",
       "      <td>0</td>\n",
       "      <td>0</td>\n",
       "      <td>2</td>\n",
       "      <td>1</td>\n",
       "      <td>0.0</td>\n",
       "      <td>0.0</td>\n",
       "    </tr>\n",
       "    <tr>\n",
       "      <th>2</th>\n",
       "      <td>512063</td>\n",
       "      <td>p1</td>\n",
       "      <td>D08</td>\n",
       "      <td>0</td>\n",
       "      <td>0</td>\n",
       "      <td>0</td>\n",
       "      <td>0</td>\n",
       "      <td>3</td>\n",
       "      <td>1</td>\n",
       "      <td>0.0</td>\n",
       "      <td>0.0</td>\n",
       "    </tr>\n",
       "    <tr>\n",
       "      <th>3</th>\n",
       "      <td>512064</td>\n",
       "      <td>p1</td>\n",
       "      <td>D08</td>\n",
       "      <td>0</td>\n",
       "      <td>0</td>\n",
       "      <td>0</td>\n",
       "      <td>0</td>\n",
       "      <td>4</td>\n",
       "      <td>1</td>\n",
       "      <td>0.0</td>\n",
       "      <td>0.0</td>\n",
       "    </tr>\n",
       "    <tr>\n",
       "      <th>4</th>\n",
       "      <td>512065</td>\n",
       "      <td>p1</td>\n",
       "      <td>D08</td>\n",
       "      <td>0</td>\n",
       "      <td>0</td>\n",
       "      <td>0</td>\n",
       "      <td>0</td>\n",
       "      <td>5</td>\n",
       "      <td>1</td>\n",
       "      <td>0.0</td>\n",
       "      <td>0.0</td>\n",
       "    </tr>\n",
       "  </tbody>\n",
       "</table>\n",
       "</div>"
      ],
      "text/plain": [
       "   mapobject_id plate_name well_name  well_pos_y  well_pos_x  tpoint  zplane  \\\n",
       "0        512061         p1       D08           0           0       0       0   \n",
       "1        512062         p1       D08           0           0       0       0   \n",
       "2        512063         p1       D08           0           0       0       0   \n",
       "3        512064         p1       D08           0           0       0       0   \n",
       "4        512065         p1       D08           0           0       0       0   \n",
       "\n",
       "   label  is_border  Classification-5  TPlus  \n",
       "0      1          1               0.0    0.0  \n",
       "1      2          1               0.0    0.0  \n",
       "2      3          1               0.0    0.0  \n",
       "3      4          1               0.0    0.0  \n",
       "4      5          1               0.0    0.0  "
      ]
     },
     "execution_count": 22,
     "metadata": {},
     "output_type": "execute_result"
    }
   ],
   "source": [
    "mds[1].head()"
   ]
  },
  {
   "cell_type": "code",
   "execution_count": 23,
   "metadata": {
    "slideshow": {
     "slide_type": "skip"
    }
   },
   "outputs": [
    {
     "data": {
      "text/html": [
       "<div>\n",
       "<style scoped>\n",
       "    .dataframe tbody tr th:only-of-type {\n",
       "        vertical-align: middle;\n",
       "    }\n",
       "\n",
       "    .dataframe tbody tr th {\n",
       "        vertical-align: top;\n",
       "    }\n",
       "\n",
       "    .dataframe thead th {\n",
       "        text-align: right;\n",
       "    }\n",
       "</style>\n",
       "<table border=\"1\" class=\"dataframe\">\n",
       "  <thead>\n",
       "    <tr style=\"text-align: right;\">\n",
       "      <th></th>\n",
       "      <th>mapobject_id</th>\n",
       "      <th>Nuclei_Intensity_max_A02_C01</th>\n",
       "      <th>Nuclei_Intensity_mean_A02_C01</th>\n",
       "      <th>Nuclei_Intensity_min_A02_C01</th>\n",
       "      <th>Nuclei_Intensity_sum_A02_C01</th>\n",
       "      <th>Nuclei_Intensity_std_A02_C01</th>\n",
       "      <th>Intensity_max_A01_C02</th>\n",
       "      <th>Intensity_mean_A01_C02</th>\n",
       "      <th>Intensity_min_A01_C02</th>\n",
       "      <th>Intensity_sum_A01_C02</th>\n",
       "      <th>...</th>\n",
       "      <th>Texture_LBP-radius-5-26_A01_C03</th>\n",
       "      <th>Texture_LBP-radius-5-27_A01_C03</th>\n",
       "      <th>Texture_LBP-radius-5-28_A01_C03</th>\n",
       "      <th>Texture_LBP-radius-5-29_A01_C03</th>\n",
       "      <th>Texture_LBP-radius-5-30_A01_C03</th>\n",
       "      <th>Texture_LBP-radius-5-31_A01_C03</th>\n",
       "      <th>Texture_LBP-radius-5-32_A01_C03</th>\n",
       "      <th>Texture_LBP-radius-5-33_A01_C03</th>\n",
       "      <th>Texture_LBP-radius-5-34_A01_C03</th>\n",
       "      <th>Texture_LBP-radius-5-35_A01_C03</th>\n",
       "    </tr>\n",
       "  </thead>\n",
       "  <tbody>\n",
       "    <tr>\n",
       "      <th>0</th>\n",
       "      <td>533047</td>\n",
       "      <td>732.0</td>\n",
       "      <td>300.344502</td>\n",
       "      <td>122.0</td>\n",
       "      <td>349601.0</td>\n",
       "      <td>111.768719</td>\n",
       "      <td>13577.0</td>\n",
       "      <td>4207.824389</td>\n",
       "      <td>366.0</td>\n",
       "      <td>16700855.0</td>\n",
       "      <td>...</td>\n",
       "      <td>64.0</td>\n",
       "      <td>142.0</td>\n",
       "      <td>6.0</td>\n",
       "      <td>26.0</td>\n",
       "      <td>21.0</td>\n",
       "      <td>82.0</td>\n",
       "      <td>53.0</td>\n",
       "      <td>27.0</td>\n",
       "      <td>259.0</td>\n",
       "      <td>172.0</td>\n",
       "    </tr>\n",
       "    <tr>\n",
       "      <th>1</th>\n",
       "      <td>533048</td>\n",
       "      <td>387.0</td>\n",
       "      <td>243.867097</td>\n",
       "      <td>124.0</td>\n",
       "      <td>377994.0</td>\n",
       "      <td>43.024769</td>\n",
       "      <td>9372.0</td>\n",
       "      <td>3547.173381</td>\n",
       "      <td>267.0</td>\n",
       "      <td>13912014.0</td>\n",
       "      <td>...</td>\n",
       "      <td>47.0</td>\n",
       "      <td>183.0</td>\n",
       "      <td>1.0</td>\n",
       "      <td>14.0</td>\n",
       "      <td>7.0</td>\n",
       "      <td>58.0</td>\n",
       "      <td>55.0</td>\n",
       "      <td>18.0</td>\n",
       "      <td>203.0</td>\n",
       "      <td>127.0</td>\n",
       "    </tr>\n",
       "    <tr>\n",
       "      <th>2</th>\n",
       "      <td>533049</td>\n",
       "      <td>323.0</td>\n",
       "      <td>223.507143</td>\n",
       "      <td>122.0</td>\n",
       "      <td>281619.0</td>\n",
       "      <td>43.917192</td>\n",
       "      <td>7575.0</td>\n",
       "      <td>3285.757202</td>\n",
       "      <td>363.0</td>\n",
       "      <td>7984390.0</td>\n",
       "      <td>...</td>\n",
       "      <td>40.0</td>\n",
       "      <td>118.0</td>\n",
       "      <td>1.0</td>\n",
       "      <td>7.0</td>\n",
       "      <td>0.0</td>\n",
       "      <td>35.0</td>\n",
       "      <td>18.0</td>\n",
       "      <td>4.0</td>\n",
       "      <td>97.0</td>\n",
       "      <td>40.0</td>\n",
       "    </tr>\n",
       "    <tr>\n",
       "      <th>3</th>\n",
       "      <td>533050</td>\n",
       "      <td>370.0</td>\n",
       "      <td>238.769716</td>\n",
       "      <td>124.0</td>\n",
       "      <td>302760.0</td>\n",
       "      <td>47.942993</td>\n",
       "      <td>6527.0</td>\n",
       "      <td>2297.226913</td>\n",
       "      <td>290.0</td>\n",
       "      <td>12786365.0</td>\n",
       "      <td>...</td>\n",
       "      <td>95.0</td>\n",
       "      <td>248.0</td>\n",
       "      <td>7.0</td>\n",
       "      <td>18.0</td>\n",
       "      <td>17.0</td>\n",
       "      <td>126.0</td>\n",
       "      <td>83.0</td>\n",
       "      <td>25.0</td>\n",
       "      <td>361.0</td>\n",
       "      <td>268.0</td>\n",
       "    </tr>\n",
       "    <tr>\n",
       "      <th>4</th>\n",
       "      <td>533051</td>\n",
       "      <td>297.0</td>\n",
       "      <td>217.765554</td>\n",
       "      <td>122.0</td>\n",
       "      <td>287015.0</td>\n",
       "      <td>33.750384</td>\n",
       "      <td>7825.0</td>\n",
       "      <td>3038.532320</td>\n",
       "      <td>511.0</td>\n",
       "      <td>22187363.0</td>\n",
       "      <td>...</td>\n",
       "      <td>104.0</td>\n",
       "      <td>366.0</td>\n",
       "      <td>6.0</td>\n",
       "      <td>43.0</td>\n",
       "      <td>32.0</td>\n",
       "      <td>122.0</td>\n",
       "      <td>85.0</td>\n",
       "      <td>42.0</td>\n",
       "      <td>421.0</td>\n",
       "      <td>302.0</td>\n",
       "    </tr>\n",
       "  </tbody>\n",
       "</table>\n",
       "<p>5 rows × 205 columns</p>\n",
       "</div>"
      ],
      "text/plain": [
       "   mapobject_id  Nuclei_Intensity_max_A02_C01  Nuclei_Intensity_mean_A02_C01  \\\n",
       "0        533047                         732.0                     300.344502   \n",
       "1        533048                         387.0                     243.867097   \n",
       "2        533049                         323.0                     223.507143   \n",
       "3        533050                         370.0                     238.769716   \n",
       "4        533051                         297.0                     217.765554   \n",
       "\n",
       "   Nuclei_Intensity_min_A02_C01  Nuclei_Intensity_sum_A02_C01  \\\n",
       "0                         122.0                      349601.0   \n",
       "1                         124.0                      377994.0   \n",
       "2                         122.0                      281619.0   \n",
       "3                         124.0                      302760.0   \n",
       "4                         122.0                      287015.0   \n",
       "\n",
       "   Nuclei_Intensity_std_A02_C01  Intensity_max_A01_C02  \\\n",
       "0                    111.768719                13577.0   \n",
       "1                     43.024769                 9372.0   \n",
       "2                     43.917192                 7575.0   \n",
       "3                     47.942993                 6527.0   \n",
       "4                     33.750384                 7825.0   \n",
       "\n",
       "   Intensity_mean_A01_C02  Intensity_min_A01_C02  Intensity_sum_A01_C02  \\\n",
       "0             4207.824389                  366.0             16700855.0   \n",
       "1             3547.173381                  267.0             13912014.0   \n",
       "2             3285.757202                  363.0              7984390.0   \n",
       "3             2297.226913                  290.0             12786365.0   \n",
       "4             3038.532320                  511.0             22187363.0   \n",
       "\n",
       "                ...                 Texture_LBP-radius-5-26_A01_C03  \\\n",
       "0               ...                                            64.0   \n",
       "1               ...                                            47.0   \n",
       "2               ...                                            40.0   \n",
       "3               ...                                            95.0   \n",
       "4               ...                                           104.0   \n",
       "\n",
       "   Texture_LBP-radius-5-27_A01_C03  Texture_LBP-radius-5-28_A01_C03  \\\n",
       "0                            142.0                              6.0   \n",
       "1                            183.0                              1.0   \n",
       "2                            118.0                              1.0   \n",
       "3                            248.0                              7.0   \n",
       "4                            366.0                              6.0   \n",
       "\n",
       "   Texture_LBP-radius-5-29_A01_C03  Texture_LBP-radius-5-30_A01_C03  \\\n",
       "0                             26.0                             21.0   \n",
       "1                             14.0                              7.0   \n",
       "2                              7.0                              0.0   \n",
       "3                             18.0                             17.0   \n",
       "4                             43.0                             32.0   \n",
       "\n",
       "   Texture_LBP-radius-5-31_A01_C03  Texture_LBP-radius-5-32_A01_C03  \\\n",
       "0                             82.0                             53.0   \n",
       "1                             58.0                             55.0   \n",
       "2                             35.0                             18.0   \n",
       "3                            126.0                             83.0   \n",
       "4                            122.0                             85.0   \n",
       "\n",
       "   Texture_LBP-radius-5-33_A01_C03  Texture_LBP-radius-5-34_A01_C03  \\\n",
       "0                             27.0                            259.0   \n",
       "1                             18.0                            203.0   \n",
       "2                              4.0                             97.0   \n",
       "3                             25.0                            361.0   \n",
       "4                             42.0                            421.0   \n",
       "\n",
       "   Texture_LBP-radius-5-35_A01_C03  \n",
       "0                            172.0  \n",
       "1                            127.0  \n",
       "2                             40.0  \n",
       "3                            268.0  \n",
       "4                            302.0  \n",
       "\n",
       "[5 rows x 205 columns]"
      ]
     },
     "execution_count": 23,
     "metadata": {},
     "output_type": "execute_result"
    }
   ],
   "source": [
    "fvs[2].head()"
   ]
  },
  {
   "cell_type": "markdown",
   "metadata": {},
   "source": [
    "## Exercise 8.B\n",
    "\n",
    "What is the mean value of column `Intensity_mean_A01_C03` in the \"feature values\" of each well?"
   ]
  },
  {
   "cell_type": "code",
   "execution_count": 24,
   "metadata": {
    "slideshow": {
     "slide_type": "skip"
    }
   },
   "outputs": [
    {
     "name": "stdout",
     "output_type": "stream",
     "text": [
      "178.42255450758492\n",
      "185.8060821058702\n",
      "179.5681108325277\n",
      "183.5100216211156\n"
     ]
    }
   ],
   "source": [
    "# your solution here\n",
    "\n",
    "for i in range(4):\n",
    "    print(np.mean(fvs[i]['Intensity_mean_A01_C03']))"
   ]
  },
  {
   "cell_type": "markdown",
   "metadata": {},
   "source": [
    "## Exercise 8.C\n",
    "\n",
    "How many unique values are in column `TPlus` in the metadata of each well?"
   ]
  },
  {
   "cell_type": "code",
   "execution_count": 25,
   "metadata": {
    "slideshow": {
     "slide_type": "skip"
    }
   },
   "outputs": [
    {
     "name": "stdout",
     "output_type": "stream",
     "text": [
      "2\n",
      "2\n",
      "2\n",
      "2\n"
     ]
    }
   ],
   "source": [
    "# your solution here\n",
    "\n",
    "for i in range(4):\n",
    "    print(len(np.unique(mds[i]['TPlus'])))"
   ]
  },
  {
   "cell_type": "markdown",
   "metadata": {},
   "source": [
    "## Exercise 8.D\n",
    "\n",
    "The `is_border` column in a \"metadata\" table tells you whether a cell lies at the border of an acquisition site or not (1 = lies at the border, 0 = does not touch nor cross the border).\n",
    "\n",
    "Can you count the number of \"border\" cells in each well?"
   ]
  },
  {
   "cell_type": "code",
   "execution_count": 26,
   "metadata": {
    "slideshow": {
     "slide_type": "skip"
    }
   },
   "outputs": [
    {
     "name": "stdout",
     "output_type": "stream",
     "text": [
      "2197\n",
      "2282\n",
      "1884\n",
      "2500\n"
     ]
    }
   ],
   "source": [
    "# your solution here\n",
    "\n",
    "for i in range(4):\n",
    "    print(np.sum(mds[i]['is_border']))"
   ]
  },
  {
   "cell_type": "markdown",
   "metadata": {
    "slideshow": {
     "slide_type": "skip"
    }
   },
   "source": [
    "-----"
   ]
  },
  {
   "cell_type": "markdown",
   "metadata": {
    "slideshow": {
     "slide_type": "slide"
    }
   },
   "source": [
    "## Join tabular data\n",
    "\n",
    "There are two ways of joining tables:\n",
    "\n",
    "- we may want to \"stack\" one table on top of another: this is only possible if the tables have the same columns, and is accomplished with PanDas' function [concat()](https://pandas.pydata.org/pandas-docs/stable/merging.html#concatenating-objects), or\n",
    "\n",
    "- we may want to form a new table by \"joining\" rows that have some value (called a *key*) in common; this is accomplished by a `DataFrame` [`.merge()` method](https://pandas.pydata.org/pandas-docs/stable/generated/pandas.DataFrame.merge.html)"
   ]
  },
  {
   "cell_type": "markdown",
   "metadata": {
    "slideshow": {
     "slide_type": "slide"
    }
   },
   "source": [
    "### \"Stacking\" tables\n",
    "\n",
    "Stacking tables is accomplished with PanDas' function [concat()](https://pandas.pydata.org/pandas-docs/stable/merging.html#concatenating-objects), which takes a unique argument: a *list* of tables to stack one on top of the other."
   ]
  },
  {
   "cell_type": "code",
   "execution_count": 27,
   "metadata": {},
   "outputs": [],
   "source": [
    "md = pd.concat(mds)"
   ]
  },
  {
   "cell_type": "code",
   "execution_count": 28,
   "metadata": {
    "slideshow": {
     "slide_type": "skip"
    }
   },
   "outputs": [],
   "source": [
    "fv = pd.concat(fvs)"
   ]
  },
  {
   "cell_type": "markdown",
   "metadata": {},
   "source": [
    "So we get:"
   ]
  },
  {
   "cell_type": "code",
   "execution_count": 29,
   "metadata": {},
   "outputs": [
    {
     "data": {
      "text/plain": [
       "(100568, 11)"
      ]
     },
     "execution_count": 29,
     "metadata": {},
     "output_type": "execute_result"
    }
   ],
   "source": [
    "md.shape"
   ]
  },
  {
   "cell_type": "code",
   "execution_count": 30,
   "metadata": {},
   "outputs": [
    {
     "data": {
      "text/plain": [
       "True"
      ]
     },
     "execution_count": 30,
     "metadata": {},
     "output_type": "execute_result"
    }
   ],
   "source": [
    "md.shape[0] == (mds[0].shape[0] + mds[1].shape[0] + mds[2].shape[0] + mds[3].shape[0])"
   ]
  },
  {
   "cell_type": "markdown",
   "metadata": {
    "slideshow": {
     "slide_type": "slide"
    }
   },
   "source": [
    "### Joining by rows\n",
    "\n",
    "The [`.merge()` method](https://pandas.pydata.org/pandas-docs/stable/generated/pandas.DataFrame.merge.html) allows making a new table out of two existing tables with a set of common columns.  The syntax is as follows:\n",
    "```\n",
    "new_table = table1.merge(table2, how, on=[list of column names])\n",
    "```\n",
    "\n",
    "For example:"
   ]
  },
  {
   "cell_type": "code",
   "execution_count": 31,
   "metadata": {},
   "outputs": [],
   "source": [
    "merged10 = md10.merge(fv10, how='inner', on=['mapobject_id'])"
   ]
  },
  {
   "cell_type": "code",
   "execution_count": 32,
   "metadata": {},
   "outputs": [
    {
     "data": {
      "text/html": [
       "<div>\n",
       "<style scoped>\n",
       "    .dataframe tbody tr th:only-of-type {\n",
       "        vertical-align: middle;\n",
       "    }\n",
       "\n",
       "    .dataframe tbody tr th {\n",
       "        vertical-align: top;\n",
       "    }\n",
       "\n",
       "    .dataframe thead th {\n",
       "        text-align: right;\n",
       "    }\n",
       "</style>\n",
       "<table border=\"1\" class=\"dataframe\">\n",
       "  <thead>\n",
       "    <tr style=\"text-align: right;\">\n",
       "      <th></th>\n",
       "      <th>mapobject_id</th>\n",
       "      <th>plate_name</th>\n",
       "      <th>well_name</th>\n",
       "      <th>well_pos_y</th>\n",
       "      <th>well_pos_x</th>\n",
       "      <th>tpoint</th>\n",
       "      <th>zplane</th>\n",
       "      <th>label</th>\n",
       "      <th>is_border</th>\n",
       "      <th>Classification-5</th>\n",
       "      <th>...</th>\n",
       "      <th>Texture_LBP-radius-5-26_A01_C03</th>\n",
       "      <th>Texture_LBP-radius-5-27_A01_C03</th>\n",
       "      <th>Texture_LBP-radius-5-28_A01_C03</th>\n",
       "      <th>Texture_LBP-radius-5-29_A01_C03</th>\n",
       "      <th>Texture_LBP-radius-5-30_A01_C03</th>\n",
       "      <th>Texture_LBP-radius-5-31_A01_C03</th>\n",
       "      <th>Texture_LBP-radius-5-32_A01_C03</th>\n",
       "      <th>Texture_LBP-radius-5-33_A01_C03</th>\n",
       "      <th>Texture_LBP-radius-5-34_A01_C03</th>\n",
       "      <th>Texture_LBP-radius-5-35_A01_C03</th>\n",
       "    </tr>\n",
       "  </thead>\n",
       "  <tbody>\n",
       "    <tr>\n",
       "      <th>0</th>\n",
       "      <td>491297</td>\n",
       "      <td>p1</td>\n",
       "      <td>D10</td>\n",
       "      <td>0</td>\n",
       "      <td>0</td>\n",
       "      <td>0</td>\n",
       "      <td>0</td>\n",
       "      <td>1</td>\n",
       "      <td>1</td>\n",
       "      <td>0.0</td>\n",
       "      <td>...</td>\n",
       "      <td>54.0</td>\n",
       "      <td>192.0</td>\n",
       "      <td>3.0</td>\n",
       "      <td>21.0</td>\n",
       "      <td>14.0</td>\n",
       "      <td>74.0</td>\n",
       "      <td>49.0</td>\n",
       "      <td>23.0</td>\n",
       "      <td>277.0</td>\n",
       "      <td>153.0</td>\n",
       "    </tr>\n",
       "    <tr>\n",
       "      <th>1</th>\n",
       "      <td>491298</td>\n",
       "      <td>p1</td>\n",
       "      <td>D10</td>\n",
       "      <td>0</td>\n",
       "      <td>0</td>\n",
       "      <td>0</td>\n",
       "      <td>0</td>\n",
       "      <td>2</td>\n",
       "      <td>1</td>\n",
       "      <td>0.0</td>\n",
       "      <td>...</td>\n",
       "      <td>120.0</td>\n",
       "      <td>370.0</td>\n",
       "      <td>21.0</td>\n",
       "      <td>67.0</td>\n",
       "      <td>67.0</td>\n",
       "      <td>192.0</td>\n",
       "      <td>155.0</td>\n",
       "      <td>75.0</td>\n",
       "      <td>675.0</td>\n",
       "      <td>472.0</td>\n",
       "    </tr>\n",
       "    <tr>\n",
       "      <th>2</th>\n",
       "      <td>491299</td>\n",
       "      <td>p1</td>\n",
       "      <td>D10</td>\n",
       "      <td>0</td>\n",
       "      <td>0</td>\n",
       "      <td>0</td>\n",
       "      <td>0</td>\n",
       "      <td>3</td>\n",
       "      <td>1</td>\n",
       "      <td>0.0</td>\n",
       "      <td>...</td>\n",
       "      <td>89.0</td>\n",
       "      <td>306.0</td>\n",
       "      <td>3.0</td>\n",
       "      <td>32.0</td>\n",
       "      <td>30.0</td>\n",
       "      <td>106.0</td>\n",
       "      <td>66.0</td>\n",
       "      <td>35.0</td>\n",
       "      <td>393.0</td>\n",
       "      <td>250.0</td>\n",
       "    </tr>\n",
       "    <tr>\n",
       "      <th>3</th>\n",
       "      <td>491300</td>\n",
       "      <td>p1</td>\n",
       "      <td>D10</td>\n",
       "      <td>0</td>\n",
       "      <td>0</td>\n",
       "      <td>0</td>\n",
       "      <td>0</td>\n",
       "      <td>4</td>\n",
       "      <td>1</td>\n",
       "      <td>0.0</td>\n",
       "      <td>...</td>\n",
       "      <td>69.0</td>\n",
       "      <td>212.0</td>\n",
       "      <td>3.0</td>\n",
       "      <td>23.0</td>\n",
       "      <td>19.0</td>\n",
       "      <td>81.0</td>\n",
       "      <td>42.0</td>\n",
       "      <td>12.0</td>\n",
       "      <td>234.0</td>\n",
       "      <td>153.0</td>\n",
       "    </tr>\n",
       "    <tr>\n",
       "      <th>4</th>\n",
       "      <td>491301</td>\n",
       "      <td>p1</td>\n",
       "      <td>D10</td>\n",
       "      <td>0</td>\n",
       "      <td>0</td>\n",
       "      <td>0</td>\n",
       "      <td>0</td>\n",
       "      <td>5</td>\n",
       "      <td>1</td>\n",
       "      <td>0.0</td>\n",
       "      <td>...</td>\n",
       "      <td>58.0</td>\n",
       "      <td>222.0</td>\n",
       "      <td>2.0</td>\n",
       "      <td>18.0</td>\n",
       "      <td>12.0</td>\n",
       "      <td>74.0</td>\n",
       "      <td>42.0</td>\n",
       "      <td>18.0</td>\n",
       "      <td>231.0</td>\n",
       "      <td>137.0</td>\n",
       "    </tr>\n",
       "  </tbody>\n",
       "</table>\n",
       "<p>5 rows × 215 columns</p>\n",
       "</div>"
      ],
      "text/plain": [
       "   mapobject_id plate_name well_name  well_pos_y  well_pos_x  tpoint  zplane  \\\n",
       "0        491297         p1       D10           0           0       0       0   \n",
       "1        491298         p1       D10           0           0       0       0   \n",
       "2        491299         p1       D10           0           0       0       0   \n",
       "3        491300         p1       D10           0           0       0       0   \n",
       "4        491301         p1       D10           0           0       0       0   \n",
       "\n",
       "   label  is_border  Classification-5               ...                 \\\n",
       "0      1          1               0.0               ...                  \n",
       "1      2          1               0.0               ...                  \n",
       "2      3          1               0.0               ...                  \n",
       "3      4          1               0.0               ...                  \n",
       "4      5          1               0.0               ...                  \n",
       "\n",
       "   Texture_LBP-radius-5-26_A01_C03  Texture_LBP-radius-5-27_A01_C03  \\\n",
       "0                             54.0                            192.0   \n",
       "1                            120.0                            370.0   \n",
       "2                             89.0                            306.0   \n",
       "3                             69.0                            212.0   \n",
       "4                             58.0                            222.0   \n",
       "\n",
       "   Texture_LBP-radius-5-28_A01_C03  Texture_LBP-radius-5-29_A01_C03  \\\n",
       "0                              3.0                             21.0   \n",
       "1                             21.0                             67.0   \n",
       "2                              3.0                             32.0   \n",
       "3                              3.0                             23.0   \n",
       "4                              2.0                             18.0   \n",
       "\n",
       "   Texture_LBP-radius-5-30_A01_C03  Texture_LBP-radius-5-31_A01_C03  \\\n",
       "0                             14.0                             74.0   \n",
       "1                             67.0                            192.0   \n",
       "2                             30.0                            106.0   \n",
       "3                             19.0                             81.0   \n",
       "4                             12.0                             74.0   \n",
       "\n",
       "   Texture_LBP-radius-5-32_A01_C03  Texture_LBP-radius-5-33_A01_C03  \\\n",
       "0                             49.0                             23.0   \n",
       "1                            155.0                             75.0   \n",
       "2                             66.0                             35.0   \n",
       "3                             42.0                             12.0   \n",
       "4                             42.0                             18.0   \n",
       "\n",
       "   Texture_LBP-radius-5-34_A01_C03  Texture_LBP-radius-5-35_A01_C03  \n",
       "0                            277.0                            153.0  \n",
       "1                            675.0                            472.0  \n",
       "2                            393.0                            250.0  \n",
       "3                            234.0                            153.0  \n",
       "4                            231.0                            137.0  \n",
       "\n",
       "[5 rows x 215 columns]"
      ]
     },
     "execution_count": 32,
     "metadata": {},
     "output_type": "execute_result"
    }
   ],
   "source": [
    "merged10.head()"
   ]
  },
  {
   "cell_type": "markdown",
   "metadata": {
    "slideshow": {
     "slide_type": "slide"
    }
   },
   "source": [
    "Parameter *how* has the following possible values:\n",
    "\n",
    "* `'inner'`: merge rows where both tables agree on the value of the common columns;\n",
    "* `'left'`: take _all_ rows from `table1`, fill in null values if there's no row in `table2` which agrees on the common columns;\n",
    "* `'right'`: same as `'left'` but with the roles of `table1` and `table2` interchanged;\n",
    "* `'outer'`: take _all_ rows, fill in null values when row of one table cannot be matched.\n",
    "\n",
    "If you know databases, this is exactly the same semantics of [SQL's JOIN keyword](https://www.w3schools.com/sql/sql_join.asp)"
   ]
  },
  {
   "cell_type": "markdown",
   "metadata": {
    "slideshow": {
     "slide_type": "slide"
    }
   },
   "source": [
    "## Make sub-tables\n",
    "\n",
    "The [`.loc[]` operator](https://pandas.pydata.org/pandas-docs/stable/generated/pandas.DataFrame.loc.html) can be used to extract sub-tables, by specifying the rows and columns to extract:\n",
    "```\n",
    "sub = data.loc[rows, columns]\n",
    "```\n",
    "here `rows` and `columns` can be:\n",
    "\n",
    "- *lists* of row numbers (e.g., `[1,2,3]`) or column names (e.g., `['a', 'c']`), \n",
    "- *ranges* (e.g., `1:10`),\n",
    "- or **selectors** (which we'll explain in a while)"
   ]
  },
  {
   "cell_type": "markdown",
   "metadata": {
    "slideshow": {
     "slide_type": "slide"
    }
   },
   "source": [
    "For example:"
   ]
  },
  {
   "cell_type": "code",
   "execution_count": 33,
   "metadata": {},
   "outputs": [
    {
     "data": {
      "text/html": [
       "<div>\n",
       "<style scoped>\n",
       "    .dataframe tbody tr th:only-of-type {\n",
       "        vertical-align: middle;\n",
       "    }\n",
       "\n",
       "    .dataframe tbody tr th {\n",
       "        vertical-align: top;\n",
       "    }\n",
       "\n",
       "    .dataframe thead th {\n",
       "        text-align: right;\n",
       "    }\n",
       "</style>\n",
       "<table border=\"1\" class=\"dataframe\">\n",
       "  <thead>\n",
       "    <tr style=\"text-align: right;\">\n",
       "      <th></th>\n",
       "      <th>well_name</th>\n",
       "      <th>label</th>\n",
       "      <th>is_border</th>\n",
       "    </tr>\n",
       "  </thead>\n",
       "  <tbody>\n",
       "    <tr>\n",
       "      <th>1</th>\n",
       "      <td>D10</td>\n",
       "      <td>2</td>\n",
       "      <td>1</td>\n",
       "    </tr>\n",
       "    <tr>\n",
       "      <th>3</th>\n",
       "      <td>D10</td>\n",
       "      <td>4</td>\n",
       "      <td>1</td>\n",
       "    </tr>\n",
       "    <tr>\n",
       "      <th>5</th>\n",
       "      <td>D10</td>\n",
       "      <td>6</td>\n",
       "      <td>1</td>\n",
       "    </tr>\n",
       "    <tr>\n",
       "      <th>7</th>\n",
       "      <td>D10</td>\n",
       "      <td>8</td>\n",
       "      <td>1</td>\n",
       "    </tr>\n",
       "  </tbody>\n",
       "</table>\n",
       "</div>"
      ],
      "text/plain": [
       "  well_name  label  is_border\n",
       "1       D10      2          1\n",
       "3       D10      4          1\n",
       "5       D10      6          1\n",
       "7       D10      8          1"
      ]
     },
     "execution_count": 33,
     "metadata": {},
     "output_type": "execute_result"
    }
   ],
   "source": [
    "md10.loc[[1,3,5,7], ['well_name', 'label', 'is_border']]"
   ]
  },
  {
   "cell_type": "markdown",
   "metadata": {
    "slideshow": {
     "slide_type": "slide"
    }
   },
   "source": [
    "**Note:** the `.loc[]` operator does *not copy* the table data -- so any modification to the sub-table will be reflected on the parent table.  Use `.loc[...].copy()` to create an independent sub-table."
   ]
  },
  {
   "cell_type": "markdown",
   "metadata": {
    "slideshow": {
     "slide_type": "slide"
    }
   },
   "source": [
    "## Selectors\n",
    "\n",
    "Selectors are logical expressions on a column (or row) of a table."
   ]
  },
  {
   "cell_type": "code",
   "execution_count": 34,
   "metadata": {},
   "outputs": [],
   "source": [
    "# select all objects in well D10 with numerical label 42\n",
    "label42 = (md10['label'] == 42)"
   ]
  },
  {
   "cell_type": "code",
   "execution_count": 35,
   "metadata": {},
   "outputs": [],
   "source": [
    "# select all objects whose mean intensity in the DAPI channel is over 1 sigma from the avg \n",
    "dapi_plus1s = (fv10['Nuclei_Intensity_mean_A02_C01'] > 259.69)"
   ]
  },
  {
   "cell_type": "markdown",
   "metadata": {
    "slideshow": {
     "slide_type": "slide"
    }
   },
   "source": [
    "You can use selectors to extract a sub-table out of an existing one."
   ]
  },
  {
   "cell_type": "code",
   "execution_count": 36,
   "metadata": {},
   "outputs": [],
   "source": [
    "# only data about cell labeled 42\n",
    "table_only_label42 = md10.loc[label42]"
   ]
  },
  {
   "cell_type": "code",
   "execution_count": 37,
   "metadata": {},
   "outputs": [
    {
     "data": {
      "text/plain": [
       "25"
      ]
     },
     "execution_count": 37,
     "metadata": {},
     "output_type": "execute_result"
    }
   ],
   "source": [
    "len(table_only_label42)"
   ]
  },
  {
   "cell_type": "code",
   "execution_count": 38,
   "metadata": {},
   "outputs": [
    {
     "data": {
      "text/html": [
       "<div>\n",
       "<style scoped>\n",
       "    .dataframe tbody tr th:only-of-type {\n",
       "        vertical-align: middle;\n",
       "    }\n",
       "\n",
       "    .dataframe tbody tr th {\n",
       "        vertical-align: top;\n",
       "    }\n",
       "\n",
       "    .dataframe thead th {\n",
       "        text-align: right;\n",
       "    }\n",
       "</style>\n",
       "<table border=\"1\" class=\"dataframe\">\n",
       "  <thead>\n",
       "    <tr style=\"text-align: right;\">\n",
       "      <th></th>\n",
       "      <th>mapobject_id</th>\n",
       "      <th>plate_name</th>\n",
       "      <th>well_name</th>\n",
       "      <th>well_pos_y</th>\n",
       "      <th>well_pos_x</th>\n",
       "      <th>tpoint</th>\n",
       "      <th>zplane</th>\n",
       "      <th>label</th>\n",
       "      <th>is_border</th>\n",
       "      <th>Classification-5</th>\n",
       "      <th>TPlus</th>\n",
       "    </tr>\n",
       "  </thead>\n",
       "  <tbody>\n",
       "    <tr>\n",
       "      <th>41</th>\n",
       "      <td>491338</td>\n",
       "      <td>p1</td>\n",
       "      <td>D10</td>\n",
       "      <td>0</td>\n",
       "      <td>0</td>\n",
       "      <td>0</td>\n",
       "      <td>0</td>\n",
       "      <td>42</td>\n",
       "      <td>0</td>\n",
       "      <td>0.0</td>\n",
       "      <td>0.0</td>\n",
       "    </tr>\n",
       "    <tr>\n",
       "      <th>1308</th>\n",
       "      <td>473939</td>\n",
       "      <td>p1</td>\n",
       "      <td>D10</td>\n",
       "      <td>0</td>\n",
       "      <td>1</td>\n",
       "      <td>0</td>\n",
       "      <td>0</td>\n",
       "      <td>42</td>\n",
       "      <td>0</td>\n",
       "      <td>0.0</td>\n",
       "      <td>0.0</td>\n",
       "    </tr>\n",
       "    <tr>\n",
       "      <th>2388</th>\n",
       "      <td>385439</td>\n",
       "      <td>p1</td>\n",
       "      <td>D10</td>\n",
       "      <td>0</td>\n",
       "      <td>2</td>\n",
       "      <td>0</td>\n",
       "      <td>0</td>\n",
       "      <td>42</td>\n",
       "      <td>0</td>\n",
       "      <td>0.0</td>\n",
       "      <td>0.0</td>\n",
       "    </tr>\n",
       "    <tr>\n",
       "      <th>3727</th>\n",
       "      <td>535524</td>\n",
       "      <td>p1</td>\n",
       "      <td>D10</td>\n",
       "      <td>0</td>\n",
       "      <td>3</td>\n",
       "      <td>0</td>\n",
       "      <td>0</td>\n",
       "      <td>42</td>\n",
       "      <td>0</td>\n",
       "      <td>0.0</td>\n",
       "      <td>0.0</td>\n",
       "    </tr>\n",
       "    <tr>\n",
       "      <th>5033</th>\n",
       "      <td>479076</td>\n",
       "      <td>p1</td>\n",
       "      <td>D10</td>\n",
       "      <td>0</td>\n",
       "      <td>4</td>\n",
       "      <td>0</td>\n",
       "      <td>0</td>\n",
       "      <td>42</td>\n",
       "      <td>0</td>\n",
       "      <td>0.0</td>\n",
       "      <td>0.0</td>\n",
       "    </tr>\n",
       "  </tbody>\n",
       "</table>\n",
       "</div>"
      ],
      "text/plain": [
       "      mapobject_id plate_name well_name  well_pos_y  well_pos_x  tpoint  \\\n",
       "41          491338         p1       D10           0           0       0   \n",
       "1308        473939         p1       D10           0           1       0   \n",
       "2388        385439         p1       D10           0           2       0   \n",
       "3727        535524         p1       D10           0           3       0   \n",
       "5033        479076         p1       D10           0           4       0   \n",
       "\n",
       "      zplane  label  is_border  Classification-5  TPlus  \n",
       "41         0     42          0               0.0    0.0  \n",
       "1308       0     42          0               0.0    0.0  \n",
       "2388       0     42          0               0.0    0.0  \n",
       "3727       0     42          0               0.0    0.0  \n",
       "5033       0     42          0               0.0    0.0  "
      ]
     },
     "execution_count": 38,
     "metadata": {},
     "output_type": "execute_result"
    }
   ],
   "source": [
    "table_only_label42.head()"
   ]
  },
  {
   "cell_type": "markdown",
   "metadata": {
    "slideshow": {
     "slide_type": "skip"
    }
   },
   "source": [
    "-----"
   ]
  },
  {
   "cell_type": "markdown",
   "metadata": {
    "slideshow": {
     "slide_type": "slide"
    }
   },
   "source": [
    "## Exercise 8.E \n",
    "\n",
    "Make stacked tables:\n",
    "\n",
    "- `md`, combining metadata for all wells\n",
    "- `fv`, combining feature values for all wells"
   ]
  },
  {
   "cell_type": "code",
   "execution_count": 39,
   "metadata": {
    "slideshow": {
     "slide_type": "skip"
    }
   },
   "outputs": [],
   "source": [
    "# your solution here\n",
    "md = pd.concat(mds)\n",
    "fv = pd.concat(fvs)"
   ]
  },
  {
   "cell_type": "markdown",
   "metadata": {},
   "source": [
    "## Exercise 8.F\n",
    "\n",
    "Make a single large table `all` by joining tables `md` and `fv` over the common column `mapobject_id`.\n",
    "\n",
    "How many rows are in the combined table?"
   ]
  },
  {
   "cell_type": "code",
   "execution_count": 40,
   "metadata": {
    "slideshow": {
     "slide_type": "skip"
    }
   },
   "outputs": [],
   "source": [
    "# your solution here\n",
    "\n",
    "all = md.merge(fv, how='inner', on=['mapobject_id'])"
   ]
  },
  {
   "cell_type": "markdown",
   "metadata": {
    "slideshow": {
     "slide_type": "skip"
    }
   },
   "source": [
    "If your solution is correct, evaluating the following cells should give the results already shown:"
   ]
  },
  {
   "cell_type": "code",
   "execution_count": 41,
   "metadata": {
    "slideshow": {
     "slide_type": "skip"
    }
   },
   "outputs": [
    {
     "data": {
      "text/plain": [
       "(100568, 215)"
      ]
     },
     "execution_count": 41,
     "metadata": {},
     "output_type": "execute_result"
    }
   ],
   "source": [
    "all.shape"
   ]
  },
  {
   "cell_type": "code",
   "execution_count": 42,
   "metadata": {
    "slideshow": {
     "slide_type": "skip"
    }
   },
   "outputs": [
    {
     "data": {
      "text/html": [
       "<div>\n",
       "<style scoped>\n",
       "    .dataframe tbody tr th:only-of-type {\n",
       "        vertical-align: middle;\n",
       "    }\n",
       "\n",
       "    .dataframe tbody tr th {\n",
       "        vertical-align: top;\n",
       "    }\n",
       "\n",
       "    .dataframe thead th {\n",
       "        text-align: right;\n",
       "    }\n",
       "</style>\n",
       "<table border=\"1\" class=\"dataframe\">\n",
       "  <thead>\n",
       "    <tr style=\"text-align: right;\">\n",
       "      <th></th>\n",
       "      <th>mapobject_id</th>\n",
       "      <th>plate_name</th>\n",
       "      <th>well_name</th>\n",
       "      <th>well_pos_y</th>\n",
       "      <th>well_pos_x</th>\n",
       "      <th>tpoint</th>\n",
       "      <th>zplane</th>\n",
       "      <th>label</th>\n",
       "      <th>is_border</th>\n",
       "      <th>Classification-5</th>\n",
       "      <th>...</th>\n",
       "      <th>Texture_LBP-radius-5-26_A01_C03</th>\n",
       "      <th>Texture_LBP-radius-5-27_A01_C03</th>\n",
       "      <th>Texture_LBP-radius-5-28_A01_C03</th>\n",
       "      <th>Texture_LBP-radius-5-29_A01_C03</th>\n",
       "      <th>Texture_LBP-radius-5-30_A01_C03</th>\n",
       "      <th>Texture_LBP-radius-5-31_A01_C03</th>\n",
       "      <th>Texture_LBP-radius-5-32_A01_C03</th>\n",
       "      <th>Texture_LBP-radius-5-33_A01_C03</th>\n",
       "      <th>Texture_LBP-radius-5-34_A01_C03</th>\n",
       "      <th>Texture_LBP-radius-5-35_A01_C03</th>\n",
       "    </tr>\n",
       "  </thead>\n",
       "  <tbody>\n",
       "    <tr>\n",
       "      <th>0</th>\n",
       "      <td>566404</td>\n",
       "      <td>p1</td>\n",
       "      <td>D07</td>\n",
       "      <td>0</td>\n",
       "      <td>0</td>\n",
       "      <td>0</td>\n",
       "      <td>0</td>\n",
       "      <td>1</td>\n",
       "      <td>1</td>\n",
       "      <td>0.0</td>\n",
       "      <td>...</td>\n",
       "      <td>52.0</td>\n",
       "      <td>133.0</td>\n",
       "      <td>1.0</td>\n",
       "      <td>20.0</td>\n",
       "      <td>21.0</td>\n",
       "      <td>72.0</td>\n",
       "      <td>46.0</td>\n",
       "      <td>22.0</td>\n",
       "      <td>214.0</td>\n",
       "      <td>153.0</td>\n",
       "    </tr>\n",
       "    <tr>\n",
       "      <th>1</th>\n",
       "      <td>566405</td>\n",
       "      <td>p1</td>\n",
       "      <td>D07</td>\n",
       "      <td>0</td>\n",
       "      <td>0</td>\n",
       "      <td>0</td>\n",
       "      <td>0</td>\n",
       "      <td>2</td>\n",
       "      <td>1</td>\n",
       "      <td>0.0</td>\n",
       "      <td>...</td>\n",
       "      <td>50.0</td>\n",
       "      <td>217.0</td>\n",
       "      <td>6.0</td>\n",
       "      <td>20.0</td>\n",
       "      <td>15.0</td>\n",
       "      <td>78.0</td>\n",
       "      <td>44.0</td>\n",
       "      <td>16.0</td>\n",
       "      <td>225.0</td>\n",
       "      <td>119.0</td>\n",
       "    </tr>\n",
       "    <tr>\n",
       "      <th>2</th>\n",
       "      <td>566406</td>\n",
       "      <td>p1</td>\n",
       "      <td>D07</td>\n",
       "      <td>0</td>\n",
       "      <td>0</td>\n",
       "      <td>0</td>\n",
       "      <td>0</td>\n",
       "      <td>3</td>\n",
       "      <td>1</td>\n",
       "      <td>0.0</td>\n",
       "      <td>...</td>\n",
       "      <td>100.0</td>\n",
       "      <td>404.0</td>\n",
       "      <td>5.0</td>\n",
       "      <td>54.0</td>\n",
       "      <td>27.0</td>\n",
       "      <td>171.0</td>\n",
       "      <td>83.0</td>\n",
       "      <td>38.0</td>\n",
       "      <td>489.0</td>\n",
       "      <td>309.0</td>\n",
       "    </tr>\n",
       "    <tr>\n",
       "      <th>3</th>\n",
       "      <td>566407</td>\n",
       "      <td>p1</td>\n",
       "      <td>D07</td>\n",
       "      <td>0</td>\n",
       "      <td>0</td>\n",
       "      <td>0</td>\n",
       "      <td>0</td>\n",
       "      <td>4</td>\n",
       "      <td>1</td>\n",
       "      <td>0.0</td>\n",
       "      <td>...</td>\n",
       "      <td>30.0</td>\n",
       "      <td>186.0</td>\n",
       "      <td>1.0</td>\n",
       "      <td>4.0</td>\n",
       "      <td>5.0</td>\n",
       "      <td>42.0</td>\n",
       "      <td>19.0</td>\n",
       "      <td>6.0</td>\n",
       "      <td>135.0</td>\n",
       "      <td>66.0</td>\n",
       "    </tr>\n",
       "    <tr>\n",
       "      <th>4</th>\n",
       "      <td>566408</td>\n",
       "      <td>p1</td>\n",
       "      <td>D07</td>\n",
       "      <td>0</td>\n",
       "      <td>0</td>\n",
       "      <td>0</td>\n",
       "      <td>0</td>\n",
       "      <td>5</td>\n",
       "      <td>1</td>\n",
       "      <td>0.0</td>\n",
       "      <td>...</td>\n",
       "      <td>65.0</td>\n",
       "      <td>246.0</td>\n",
       "      <td>3.0</td>\n",
       "      <td>24.0</td>\n",
       "      <td>22.0</td>\n",
       "      <td>94.0</td>\n",
       "      <td>46.0</td>\n",
       "      <td>37.0</td>\n",
       "      <td>259.0</td>\n",
       "      <td>185.0</td>\n",
       "    </tr>\n",
       "  </tbody>\n",
       "</table>\n",
       "<p>5 rows × 215 columns</p>\n",
       "</div>"
      ],
      "text/plain": [
       "   mapobject_id plate_name well_name  well_pos_y  well_pos_x  tpoint  zplane  \\\n",
       "0        566404         p1       D07           0           0       0       0   \n",
       "1        566405         p1       D07           0           0       0       0   \n",
       "2        566406         p1       D07           0           0       0       0   \n",
       "3        566407         p1       D07           0           0       0       0   \n",
       "4        566408         p1       D07           0           0       0       0   \n",
       "\n",
       "   label  is_border  Classification-5               ...                 \\\n",
       "0      1          1               0.0               ...                  \n",
       "1      2          1               0.0               ...                  \n",
       "2      3          1               0.0               ...                  \n",
       "3      4          1               0.0               ...                  \n",
       "4      5          1               0.0               ...                  \n",
       "\n",
       "   Texture_LBP-radius-5-26_A01_C03  Texture_LBP-radius-5-27_A01_C03  \\\n",
       "0                             52.0                            133.0   \n",
       "1                             50.0                            217.0   \n",
       "2                            100.0                            404.0   \n",
       "3                             30.0                            186.0   \n",
       "4                             65.0                            246.0   \n",
       "\n",
       "   Texture_LBP-radius-5-28_A01_C03  Texture_LBP-radius-5-29_A01_C03  \\\n",
       "0                              1.0                             20.0   \n",
       "1                              6.0                             20.0   \n",
       "2                              5.0                             54.0   \n",
       "3                              1.0                              4.0   \n",
       "4                              3.0                             24.0   \n",
       "\n",
       "   Texture_LBP-radius-5-30_A01_C03  Texture_LBP-radius-5-31_A01_C03  \\\n",
       "0                             21.0                             72.0   \n",
       "1                             15.0                             78.0   \n",
       "2                             27.0                            171.0   \n",
       "3                              5.0                             42.0   \n",
       "4                             22.0                             94.0   \n",
       "\n",
       "   Texture_LBP-radius-5-32_A01_C03  Texture_LBP-radius-5-33_A01_C03  \\\n",
       "0                             46.0                             22.0   \n",
       "1                             44.0                             16.0   \n",
       "2                             83.0                             38.0   \n",
       "3                             19.0                              6.0   \n",
       "4                             46.0                             37.0   \n",
       "\n",
       "   Texture_LBP-radius-5-34_A01_C03  Texture_LBP-radius-5-35_A01_C03  \n",
       "0                            214.0                            153.0  \n",
       "1                            225.0                            119.0  \n",
       "2                            489.0                            309.0  \n",
       "3                            135.0                             66.0  \n",
       "4                            259.0                            185.0  \n",
       "\n",
       "[5 rows x 215 columns]"
      ]
     },
     "execution_count": 42,
     "metadata": {},
     "output_type": "execute_result"
    }
   ],
   "source": [
    "all.head()"
   ]
  },
  {
   "cell_type": "markdown",
   "metadata": {},
   "source": [
    "## Exercise 8.G\n",
    "\n",
    "Make a table `good` by extracting from `all` only rows which refer to objects that are *not* \"border\" objects.\n",
    "\n",
    "How many good objects are there?  \n",
    "\n",
    "*Advanced:* could you compute this number from the selector alone?"
   ]
  },
  {
   "cell_type": "code",
   "execution_count": 43,
   "metadata": {
    "slideshow": {
     "slide_type": "skip"
    }
   },
   "outputs": [],
   "source": [
    "# your solution\n",
    "\n",
    "good_rows = (all['is_border'] == 0)\n",
    "\n",
    "good = all.loc[good_rows]"
   ]
  },
  {
   "cell_type": "code",
   "execution_count": 44,
   "metadata": {
    "slideshow": {
     "slide_type": "skip"
    }
   },
   "outputs": [
    {
     "data": {
      "text/plain": [
       "(91705, 215)"
      ]
     },
     "execution_count": 44,
     "metadata": {},
     "output_type": "execute_result"
    }
   ],
   "source": [
    "good.shape"
   ]
  },
  {
   "cell_type": "markdown",
   "metadata": {
    "slideshow": {
     "slide_type": "skip"
    }
   },
   "source": [
    "This can be computed from the selector alone by noting that the selector is just an array of booleans, where `True` counts as `1` and `False` counts as `0` -- so summing the array will give the required number:"
   ]
  },
  {
   "cell_type": "code",
   "execution_count": 45,
   "metadata": {
    "slideshow": {
     "slide_type": "skip"
    }
   },
   "outputs": [
    {
     "data": {
      "text/plain": [
       "91705"
      ]
     },
     "execution_count": 45,
     "metadata": {},
     "output_type": "execute_result"
    }
   ],
   "source": [
    "np.sum(good_rows)"
   ]
  },
  {
   "cell_type": "markdown",
   "metadata": {},
   "source": [
    "## Exercise 8.H\n",
    "\n",
    "Make two tables `all0` and `all1` by splitting table `all` on the two values of column `TPlus` (`0` or `1`).\n",
    "What is the mean of column `Intensity_mean_A01_C03` in each table?  And the std deviation?"
   ]
  },
  {
   "cell_type": "code",
   "execution_count": 46,
   "metadata": {
    "slideshow": {
     "slide_type": "skip"
    }
   },
   "outputs": [],
   "source": [
    "# your solution\n",
    "\n",
    "tp0_rows = (all['TPlus'] == 0)\n",
    "tp1_rows = (all['TPlus'] == 1)  # or: tp1_rows = ~tp0_rows\n",
    "\n",
    "all0 = all.loc[tp0_rows]\n",
    "all1 = all.loc[tp1_rows]"
   ]
  },
  {
   "cell_type": "markdown",
   "metadata": {
    "slideshow": {
     "slide_type": "skip"
    }
   },
   "source": [
    "The `.decribe()` method returns the basic descriptive statistics:"
   ]
  },
  {
   "cell_type": "code",
   "execution_count": 47,
   "metadata": {
    "slideshow": {
     "slide_type": "skip"
    }
   },
   "outputs": [
    {
     "data": {
      "text/plain": [
       "count    84165.000000\n",
       "mean       183.761707\n",
       "std         22.503610\n",
       "min        100.447304\n",
       "25%        171.670273\n",
       "50%        183.710159\n",
       "75%        196.467103\n",
       "max        824.712494\n",
       "Name: Intensity_mean_A01_C03, dtype: float64"
      ]
     },
     "execution_count": 47,
     "metadata": {},
     "output_type": "execute_result"
    }
   ],
   "source": [
    "all0['Intensity_mean_A01_C03'].describe()"
   ]
  },
  {
   "cell_type": "markdown",
   "metadata": {
    "slideshow": {
     "slide_type": "skip"
    }
   },
   "source": [
    "-----"
   ]
  },
  {
   "cell_type": "markdown",
   "metadata": {
    "slideshow": {
     "slide_type": "slide"
    }
   },
   "source": [
    "# Plotting\n",
    "\n",
    "The [seaborn](https://seaborn.pydata.org/examples/index.html) library provides many convenient plotting functions; there are good chances that the plot you want to make is already implemented by Seaborn."
   ]
  },
  {
   "cell_type": "markdown",
   "metadata": {
    "slideshow": {
     "slide_type": "slide"
    }
   },
   "source": [
    "## Distribution plots (with kernel density estimates)\n",
    "\n",
    "Seaborn's function [distplot()](https://seaborn.pydata.org/generated/seaborn.distplot.html#seaborn.distplot) plots the frequency distribution of an array of values.\n",
    "\n",
    "The simplest use just passes an array of values (e.g., a `DataFrame` column) as the unique argument:"
   ]
  },
  {
   "cell_type": "code",
   "execution_count": 48,
   "metadata": {},
   "outputs": [
    {
     "data": {
      "text/plain": [
       "<matplotlib.axes._subplots.AxesSubplot at 0x7f6f3fb0d358>"
      ]
     },
     "execution_count": 48,
     "metadata": {},
     "output_type": "execute_result"
    },
    {
     "data": {
      "image/png": "[encoded data removed]",
      "text/plain": [
       "<Figure size 432x288 with 1 Axes>"
      ]
     },
     "metadata": {
      "needs_background": "light"
     },
     "output_type": "display_data"
    }
   ],
   "source": [
    "sea.distplot(fv10['Intensity_mean_A01_C03'])"
   ]
  },
  {
   "cell_type": "markdown",
   "metadata": {
    "slideshow": {
     "slide_type": "slide"
    }
   },
   "source": [
    "The plot ink color can be specified with the additional parameter `color=`:"
   ]
  },
  {
   "cell_type": "code",
   "execution_count": 49,
   "metadata": {},
   "outputs": [
    {
     "data": {
      "text/plain": [
       "<matplotlib.axes._subplots.AxesSubplot at 0x7f6f3fafecf8>"
      ]
     },
     "execution_count": 49,
     "metadata": {},
     "output_type": "execute_result"
    },
    {
     "data": {
      "image/png": "[encoded data removed]",
      "text/plain": [
       "<Figure size 432x288 with 1 Axes>"
      ]
     },
     "metadata": {
      "needs_background": "light"
     },
     "output_type": "display_data"
    }
   ],
   "source": [
    "sea.distplot(fv10['Nuclei_Intensity_mean_A02_C01'], color='orange')"
   ]
  },
  {
   "cell_type": "markdown",
   "metadata": {
    "slideshow": {
     "slide_type": "skip"
    }
   },
   "source": [
    "-----"
   ]
  },
  {
   "cell_type": "markdown",
   "metadata": {
    "slideshow": {
     "slide_type": "slide"
    }
   },
   "source": [
    "## Scatter plots\n",
    "\n",
    "Scatter plots are provided by [Seaborn function scatterplot()](https://seaborn.pydata.org/generated/seaborn.scatterplot.html#seaborn.scatterplot).  The syntax of the `scatterplot()` function we are going to use is the following:\n",
    "```\n",
    "scatterplot(data=..., x=..., y=...)\n",
    "```\n",
    "where the named arguments have the following meaning:\n",
    "- `data` is a table (PanDas `DataFrame`);\n",
    "- `x` is the *name of a column* of `data` where to draw the x-axis values from;\n",
    "- `y` is again the *name of a column* where to draw the y-axis values from.\n",
    "\n",
    "Alternatively, you can just provide the `x` and `y` values as Python lists or NumPy arrays:\n",
    "```\n",
    "scatterplot(x=..., y=...)\n",
    "```"
   ]
  },
  {
   "cell_type": "code",
   "execution_count": 50,
   "metadata": {
    "slideshow": {
     "slide_type": "slide"
    }
   },
   "outputs": [
    {
     "data": {
      "text/plain": [
       "<matplotlib.axes._subplots.AxesSubplot at 0x7f6f3f926ac8>"
      ]
     },
     "execution_count": 50,
     "metadata": {},
     "output_type": "execute_result"
    },
    {
     "data": {
      "image/png": "[encoded data removed]",
      "text/plain": [
       "<Figure size 432x288 with 1 Axes>"
      ]
     },
     "metadata": {
      "needs_background": "light"
     },
     "output_type": "display_data"
    }
   ],
   "source": [
    "sea.scatterplot(data=all, x='Intensity_mean_A01_C03', y='Nuclei_Intensity_mean_A02_C01')"
   ]
  },
  {
   "cell_type": "markdown",
   "metadata": {
    "slideshow": {
     "slide_type": "skip"
    }
   },
   "source": [
    "----"
   ]
  },
  {
   "cell_type": "markdown",
   "metadata": {
    "slideshow": {
     "slide_type": "slide"
    }
   },
   "source": [
    "## Make a grid of plots\n",
    "\n",
    "To arrange a number of plots in a grid, function [`plt.subplots`](https://matplotlib.org/api/_as_gen/matplotlib.pyplot.subplots.html) is used again:"
   ]
  },
  {
   "cell_type": "code",
   "execution_count": 51,
   "metadata": {},
   "outputs": [
    {
     "data": {
      "image/png": "[encoded data removed]",
      "text/plain": [
       "<Figure size 432x288 with 4 Axes>"
      ]
     },
     "metadata": {
      "needs_background": "light"
     },
     "output_type": "display_data"
    }
   ],
   "source": [
    "fig, axes = plt.subplots(2, 2)"
   ]
  },
  {
   "cell_type": "markdown",
   "metadata": {
    "slideshow": {
     "slide_type": "slide"
    }
   },
   "source": [
    "Note that, when multiple plots are requested, the second return value from `plt.subplots` is an *array* (with the shape indicated in the numerical parameters to `plt.subplots`) -- so we must extract individual canvases (\"axes\") to draw a plot on them:"
   ]
  },
  {
   "cell_type": "code",
   "execution_count": 52,
   "metadata": {},
   "outputs": [],
   "source": [
    "ul = axes[0,0]  # upper-left\n",
    "ur = axes[0,1]  # upper-right\n",
    "ll = axes[1,0]  # lower-left\n",
    "lr = axes[1,1]  # lower-right"
   ]
  },
  {
   "cell_type": "markdown",
   "metadata": {
    "slideshow": {
     "slide_type": "slide"
    }
   },
   "source": [
    "All Seaborn plotting functions accept an additional `ax=...` argument to plot on a specific canvas:"
   ]
  },
  {
   "cell_type": "code",
   "execution_count": 53,
   "metadata": {},
   "outputs": [
    {
     "data": {
      "text/plain": [
       "<matplotlib.axes._subplots.AxesSubplot at 0x7f6f3f7e4dd8>"
      ]
     },
     "execution_count": 53,
     "metadata": {},
     "output_type": "execute_result"
    }
   ],
   "source": [
    "# well D07\n",
    "sea.distplot(fvs[0]['Intensity_mean_A01_C03'], ax=ul)\n",
    "sea.scatterplot(data=fvs[0], x='Nuclei_Intensity_mean_A02_C01', y='Intensity_mean_A01_C03', ax=ur)\n",
    "\n",
    "# well D07\n",
    "sea.distplot(fvs[1]['Intensity_mean_A01_C03'], ax=ll)\n",
    "sea.scatterplot(data=fvs[1], x='Nuclei_Intensity_mean_A02_C01', y='Intensity_mean_A01_C03', ax=lr)"
   ]
  },
  {
   "cell_type": "code",
   "execution_count": 54,
   "metadata": {},
   "outputs": [
    {
     "data": {
      "image/png": "[encoded data removed]",
      "text/plain": [
       "<Figure size 432x288 with 4 Axes>"
      ]
     },
     "execution_count": 54,
     "metadata": {},
     "output_type": "execute_result"
    }
   ],
   "source": [
    "fig"
   ]
  },
  {
   "cell_type": "markdown",
   "metadata": {
    "slideshow": {
     "slide_type": "skip"
    }
   },
   "source": [
    "-----"
   ]
  },
  {
   "cell_type": "markdown",
   "metadata": {
    "slideshow": {
     "slide_type": "slide"
    }
   },
   "source": [
    "## Box plots\n",
    "\n",
    "Box plots are provided by [Seaborn function boxplot()](https://seaborn.pydata.org/generated/seaborn.boxplot.html#seaborn.boxplot).  The syntax of the `boxplot()` function we are going to use is the following:\n",
    "```\n",
    "boxplot(data=..., x=..., y=..., hue=...)\n",
    "```\n",
    "where the named arguments have the following meaning:\n",
    "- `data` is a table (PanDas `DataFrame`)\n",
    "- `x` is the *name of a column* of `data` where to draw the x-axis values from; this should be a categorical variable.\n",
    "- `y` is again the *name of a column* whose distribution detemines the parameters of the box and handles; `y` should name a continuous variable.\n",
    "\n",
    "The following are optional:\n",
    "- `hue` is again the *name of a column* of `data` (carrying a categorical variable): if supplied, for each value of `x`, a box+handles of a different color (\"hue\") will be drawn for each value of `hue`. In other words, by supplying `hue` you can make boxplots of 3D-data `(x,y,hue)`.\n",
    "- `ax` used for placing a plot on a specific \"subplot\""
   ]
  },
  {
   "cell_type": "code",
   "execution_count": 55,
   "metadata": {
    "slideshow": {
     "slide_type": "slide"
    }
   },
   "outputs": [
    {
     "data": {
      "text/plain": [
       "<matplotlib.axes._subplots.AxesSubplot at 0x7f6f3f694a90>"
      ]
     },
     "execution_count": 55,
     "metadata": {},
     "output_type": "execute_result"
    },
    {
     "data": {
      "image/png": "[encoded data removed]",
      "text/plain": [
       "<Figure size 432x288 with 1 Axes>"
      ]
     },
     "metadata": {
      "needs_background": "light"
     },
     "output_type": "display_data"
    }
   ],
   "source": [
    "# Initialize the matplotlib figure\n",
    "fig, ax = plt.subplots(1, 1)\n",
    "\n",
    "sea.boxplot(data=all, x='well_name', hue='TPlus', y='Intensity_mean_A01_C03', ax=ax)"
   ]
  },
  {
   "cell_type": "markdown",
   "metadata": {
    "slideshow": {
     "slide_type": "skip"
    }
   },
   "source": [
    "-----"
   ]
  },
  {
   "cell_type": "markdown",
   "metadata": {
    "slideshow": {
     "slide_type": "slide"
    }
   },
   "source": [
    "## Exercise 8.J.\n",
    "\n",
    "Make a 2x2 grid of plots, showing box plots of the mean Intensity of the *Yap* channel for each of the wells D07, D08, D09, D10."
   ]
  },
  {
   "cell_type": "markdown",
   "metadata": {
    "slideshow": {
     "slide_type": "skip"
    }
   },
   "source": [
    "-----"
   ]
  },
  {
   "cell_type": "markdown",
   "metadata": {
    "slideshow": {
     "slide_type": "slide"
    }
   },
   "source": [
    "## Violin plots\n",
    "\n",
    "Violin plots are provided by [Seaborn function violinplot()](https://seaborn.pydata.org/generated/seaborn.violinplot.html#seaborn.violinplot).  Producing a (useful) violin plot requires specifying quite some parameters; the syntax of the `violinplot()` function we are going to use is the following:\n",
    "```\n",
    "violinplot(data=..., x=..., y=..., hue=..., split=..., inner=...)\n",
    "```\n",
    "where the named arguments have the following meaning:\n",
    "- `data` is a table (PanDas `DataFrame`)\n",
    "- `x` is the *name of a column* of `data` where to draw the x-axis values from; this should be a categorical variable.\n",
    "- `y` is again the *name of a column* whose distribution will be plotted to make the countour of the \"violins\"; `y` should name a continuous variable."
   ]
  },
  {
   "cell_type": "markdown",
   "metadata": {
    "slideshow": {
     "slide_type": "slide"
    }
   },
   "source": [
    "The following are optional:\n",
    "- `hue` is again the *name of a column* of `data` (carrying a categorical variable): if supplied, for each value of `x`, a violin of a different color (\"hue\") will be drawn for each value of `hue`. In other words, by supplying `hue` you can make violin plots of 3D-data `(x,y,hue)`.\n",
    "- `split`: if `True` and `hue` is the name of a discrete variable with 2 values, then, for each `x`, each half of the violin plots the `y` values corresponding to the different `hue`.\n",
    "- `inner`: can be one of:\n",
    "  * `'quartiles'`: mark the quartiles of the distribution\n",
    "  * `'box'` make a miniature box plot inside the violin\n",
    "  * `'point'` mark each data point\n",
    "  * `None`: no inner decoration of the \"violins\""
   ]
  },
  {
   "cell_type": "code",
   "execution_count": 56,
   "metadata": {
    "slideshow": {
     "slide_type": "slide"
    }
   },
   "outputs": [
    {
     "data": {
      "text/plain": [
       "<matplotlib.axes._subplots.AxesSubplot at 0x7f6f3efea1d0>"
      ]
     },
     "execution_count": 56,
     "metadata": {},
     "output_type": "execute_result"
    },
    {
     "data": {
      "image/png": "[encoded data removed]",
      "text/plain": [
       "<Figure size 432x288 with 1 Axes>"
      ]
     },
     "metadata": {
      "needs_background": "light"
     },
     "output_type": "display_data"
    }
   ],
   "source": [
    "sea.violinplot(data=all, x='well_name', y='Intensity_mean_A01_C03', hue='TPlus')"
   ]
  },
  {
   "cell_type": "markdown",
   "metadata": {
    "slideshow": {
     "slide_type": "skip"
    }
   },
   "source": [
    "-----"
   ]
  },
  {
   "cell_type": "markdown",
   "metadata": {
    "slideshow": {
     "slide_type": "slide"
    }
   },
   "source": [
    "## Exercise 8.K\n",
    "\n",
    "Modify the above violin plot so that only *one* (non-simmetrical) violin is shown per well: the two halves of the violin should show the distribution for TPlus-positive and TPlus-null data."
   ]
  },
  {
   "cell_type": "markdown",
   "metadata": {},
   "source": [
    "## Exercise 8.L\n",
    "\n",
    "Make a 2x2 grid of the violin plots, showing only one well per plot."
   ]
  },
  {
   "cell_type": "markdown",
   "metadata": {
    "slideshow": {
     "slide_type": "skip"
    }
   },
   "source": [
    "-----"
   ]
  }
 ],
 "metadata": {
  "anaconda-cloud": {},
  "kernelspec": {
   "display_name": "Python 3",
   "language": "python",
   "name": "python3"
  },
  "language_info": {
   "codemirror_mode": {
    "name": "ipython",
    "version": 3
   },
   "file_extension": ".py",
   "mimetype": "text/x-python",
   "name": "python",
   "nbconvert_exporter": "python",
   "pygments_lexer": "ipython3",
   "version": "3.7.0"
  }
 },
 "nbformat": 4,
 "nbformat_minor": 2
}
