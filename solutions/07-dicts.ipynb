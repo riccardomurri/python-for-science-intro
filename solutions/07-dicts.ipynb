{
 "cells": [
  {
   "cell_type": "markdown",
   "metadata": {},
   "source": [
    "<a rel=\"license\" href=\"http://creativecommons.org/licenses/by-sa/4.0/\"><img alt=\"Creative Commons License\" style=\"border-width:0\" src=\"https://i.creativecommons.org/l/by-sa/4.0/80x15.png\" /></a><div align=\"center\">This work is licensed under a <a rel=\"license\" href=\"http://creativecommons.org/licenses/by-sa/4.0/\">Creative Commons Attribution-ShareAlike 4.0 International License</a>.</div>"
   ]
  },
  {
   "cell_type": "markdown",
   "metadata": {},
   "source": [
    "---"
   ]
  },
  {
   "cell_type": "markdown",
   "metadata": {},
   "source": [
    "## Exercise 6.A"
   ]
  },
  {
   "cell_type": "markdown",
   "metadata": {},
   "source": [
    "Write a function `wordcount(filename)` that reads a text\n",
    "file and returns a dictionary, mapping words into occurrences\n",
    "(disregarding case) of that word in the text.\n",
    "\n",
    "You might find useful:\n",
    "* the `with open(...)` pattern for reading lines of a file;\n",
    "* the [`.split()`](http://www.pythonforbeginners.com/dictionary/python-split) method of Python strings, to break a string at every occurrence of a substring or whitespace\n",
    "* the [`.lower()`](https://docs.python.org/2/library/stdtypes.html?highlight=str.lower#str.lower) method of Python strings, to convert a string to lowercase"
   ]
  },
  {
   "cell_type": "code",
   "execution_count": 1,
   "metadata": {
    "collapsed": true
   },
   "outputs": [],
   "source": [
    "def wordcount(filename):\n",
    "    wc = {}\n",
    "    with open(filename, 'r') as stream:\n",
    "        for line in stream:\n",
    "            words = line.split()\n",
    "            for word in words:\n",
    "                word = word.lower()\n",
    "                if word not in wc:\n",
    "                    wc[word] = 1\n",
    "                else:\n",
    "                    wc[word] += 1\n",
    "    return wc"
   ]
  },
  {
   "cell_type": "markdown",
   "metadata": {},
   "source": [
    "If your solution is correct, evaluating the following cell should produce `(1, 2, 3)` as output."
   ]
  },
  {
   "cell_type": "code",
   "execution_count": 2,
   "metadata": {
    "collapsed": false
   },
   "outputs": [
    {
     "name": "stdout",
     "output_type": "stream",
     "text": [
      "(1, 2, 3)\n"
     ]
    }
   ],
   "source": [
    "wc = wordcount('lipsum.txt')\n",
    "\n",
    "print(wc['bacon'], wc['filet'], wc['ham'])"
   ]
  }
 ],
 "metadata": {
  "kernelspec": {
   "display_name": "Python 2",
   "language": "python",
   "name": "python2"
  },
  "language_info": {
   "codemirror_mode": {
    "name": "ipython",
    "version": 2
   },
   "file_extension": ".py",
   "mimetype": "text/x-python",
   "name": "python",
   "nbconvert_exporter": "python",
   "pygments_lexer": "ipython2",
   "version": "2.7.13"
  }
 },
 "nbformat": 4,
 "nbformat_minor": 2
}
