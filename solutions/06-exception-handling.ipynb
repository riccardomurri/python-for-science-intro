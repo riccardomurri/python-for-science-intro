{
 "cells": [
  {
   "cell_type": "markdown",
   "metadata": {},
   "source": [
    "<a rel=\"license\" href=\"http://creativecommons.org/licenses/by-sa/4.0/\"><img alt=\"Creative Commons License\" style=\"border-width:0\" src=\"https://i.creativecommons.org/l/by-sa/4.0/80x15.png\" /></a><div align=\"center\">This work is licensed under a <a rel=\"license\" href=\"http://creativecommons.org/licenses/by-sa/4.0/\">Creative Commons Attribution-ShareAlike 4.0 International License</a>.</div>"
   ]
  },
  {
   "cell_type": "markdown",
   "metadata": {},
   "source": [
    "---"
   ]
  },
  {
   "cell_type": "markdown",
   "metadata": {},
   "source": [
    "## Exercise 6.A"
   ]
  },
  {
   "cell_type": "markdown",
   "metadata": {},
   "source": [
    "Try loading file `values2.txt` with the `load_data()` function from Exercise 5.D -- what exception does Python raise?\n",
    "\n",
    "Write a new `load_data2()` function that works just like `load_data()` but in addition *ignores* any line that does not contain an integer number."
   ]
  },
  {
   "cell_type": "code",
   "execution_count": 1,
   "metadata": {},
   "outputs": [],
   "source": [
    "def load_data2(filename):\n",
    "    result = []\n",
    "    with open(filename) as stream:\n",
    "        for line in stream:\n",
    "            try:\n",
    "                num = int(line)\n",
    "            except ValueError:\n",
    "                # ignore line\n",
    "                continue\n",
    "            result.append(num)\n",
    "    return result"
   ]
  },
  {
   "cell_type": "markdown",
   "metadata": {},
   "source": [
    "If your solution is correct, evaluating the following cell should produce `[299850, 300070, 299930]` as output:"
   ]
  },
  {
   "cell_type": "code",
   "execution_count": 2,
   "metadata": {},
   "outputs": [
    {
     "data": {
      "text/plain": [
       "[299850, 300070, 299930]"
      ]
     },
     "execution_count": 2,
     "metadata": {},
     "output_type": "execute_result"
    }
   ],
   "source": [
    "load_data2('values2.txt')"
   ]
  },
  {
   "cell_type": "markdown",
   "metadata": {},
   "source": [
    "### Bonus points\n",
    "\n",
    "Re-write `load_data2()` so that it has exactly the same output of `load_data()`, i.e. minimize the number of rejected input lines."
   ]
  },
  {
   "cell_type": "markdown",
   "metadata": {},
   "source": [
    "From inspection of file `values2.txt`, or from tracing the `load_data2()` code, we can see see that the erroring input lines are of two kinds:\n",
    "\n",
    "1. Lines that contain a *floating-point* number (e.g., `299740.0`)\n",
    "2. Lines that contain non-numeric output.\n",
    "\n",
    "One simple way of minimizing errors is thus to first convert to floating-point, and *then* convert to integer:"
   ]
  },
  {
   "cell_type": "code",
   "execution_count": 3,
   "metadata": {},
   "outputs": [],
   "source": [
    "def load_data3(filename):\n",
    "    result = []\n",
    "    with open(filename) as stream:\n",
    "        for line in stream:\n",
    "            try:\n",
    "                num = int(float(line))\n",
    "            except ValueError:\n",
    "                # ignore line\n",
    "                continue\n",
    "            result.append(num)\n",
    "    return result"
   ]
  },
  {
   "cell_type": "markdown",
   "metadata": {},
   "source": [
    "If the code is correct, the output will now be the same as for the `load_data()` function of exercise 4.A:"
   ]
  },
  {
   "cell_type": "code",
   "execution_count": 4,
   "metadata": {},
   "outputs": [
    {
     "data": {
      "text/plain": [
       "[299850, 299740, 299900, 300070, 299930]"
      ]
     },
     "execution_count": 4,
     "metadata": {},
     "output_type": "execute_result"
    }
   ],
   "source": [
    "load_data3('values2.txt')"
   ]
  },
  {
   "cell_type": "markdown",
   "metadata": {},
   "source": [
    "----"
   ]
  },
  {
   "cell_type": "markdown",
   "metadata": {},
   "source": [
    "## Exercise 6.B\n",
    "\n",
    "Write a function `read_csv(p)` which reads a CSV\n",
    "(*Comma-Separated Values*) file and returns a list of all\n",
    "rows in it.  A *row* will be represented as a Python list of\n",
    "(string) items."
   ]
  },
  {
   "cell_type": "code",
   "execution_count": 5,
   "metadata": {},
   "outputs": [],
   "source": [
    "def read_csv(path):\n",
    "    with open(path, 'r') as input_file:\n",
    "        rows = []\n",
    "        for line in input_file:\n",
    "            parts = line.split(',')\n",
    "            # remove spaces before and after any comma\n",
    "            # (to be conformant to CSV usage, we should also remove quotes)\n",
    "            row = []\n",
    "            for item in parts:\n",
    "                row.append(item.strip())\n",
    "            # commit row\n",
    "            rows.append(row)\n",
    "        return rows"
   ]
  },
  {
   "cell_type": "markdown",
   "metadata": {},
   "source": [
    "If your solution is correct, evaluating the following cell should produce a Python list, whose first item is the list `['NAME', 'EXITCODE', 'MEM', 'WALLTIME', 'CPUTIME']`, the second is the list `['check_image_setmake_batch_folder', '0', '0', '0', '0.004']`, etc."
   ]
  },
  {
   "cell_type": "code",
   "execution_count": 6,
   "metadata": {},
   "outputs": [
    {
     "data": {
      "text/plain": [
       "[['NAME', 'EXITCODE', 'MEM', 'WALLTIME', 'CPUTIME'],\n",
       " ['check_image_set-make_batch_folder', '0', '0', '0', '0.004'],\n",
       " ['check_image_set-check_image_set', '0', '0', '5', '0.836'],\n",
       " ['convert_tiff_to_png-clean_up', '0', '0', '1', '0.072'],\n",
       " ['convert_tiff_to_png-create_new_batch', '0', '0', '4', '0.488'],\n",
       " ['convert_tiff_to_png-convert_PNGs_listfiles', '0', '0', '1', '0.176'],\n",
       " ['convert_tiff_to_png-convert_PNGs_run__p0', '0', '0', '0', '0'],\n",
       " ['illum_corr-prepare_batches', '0', '0', '19', '13.96'],\n",
       " ['illum_corr-illumination_statistics_listfiles', '0', '0', '0', '0.14'],\n",
       " ['illum_corr-illumination_statistics_run__p0',\n",
       "  '0',\n",
       "  '3048',\n",
       "  '1475',\n",
       "  '1197.56']]"
      ]
     },
     "execution_count": 6,
     "metadata": {},
     "output_type": "execute_result"
    }
   ],
   "source": [
    "read_csv('data.csv')"
   ]
  },
  {
   "cell_type": "markdown",
   "metadata": {},
   "source": [
    "### Advanced\n",
    "\n",
    "Make `read_csv()` into a *generator* that iterates over rows."
   ]
  },
  {
   "cell_type": "code",
   "execution_count": 7,
   "metadata": {},
   "outputs": [],
   "source": [
    "def read_csv(path):\n",
    "    with open(path, 'r') as input_file:\n",
    "        for line in input_file:\n",
    "            parts = line.split(',')\n",
    "            # remove spaces before and after any comma\n",
    "            # (to be conformant to CSV usage, we should also remove quotes)\n",
    "            row = []\n",
    "            for item in parts:\n",
    "                row.append(item.strip())\n",
    "            # commit row\n",
    "            yield row"
   ]
  },
  {
   "cell_type": "markdown",
   "metadata": {},
   "source": [
    "If your solution is correct, evaluating the two cells below should produce the list `['NAME', 'EXITCODE', 'MEM', 'WALLTIME', 'CPUTIME']` in the first case, and list `['check_image_setmake_batch_folder', '0', '0', '0', '0.004']` in the second."
   ]
  },
  {
   "cell_type": "code",
   "execution_count": 8,
   "metadata": {},
   "outputs": [
    {
     "data": {
      "text/plain": [
       "['NAME', 'EXITCODE', 'MEM', 'WALLTIME', 'CPUTIME']"
      ]
     },
     "execution_count": 8,
     "metadata": {},
     "output_type": "execute_result"
    }
   ],
   "source": [
    "g = read_csv('data.csv')\n",
    "\n",
    "next(g)"
   ]
  },
  {
   "cell_type": "code",
   "execution_count": 9,
   "metadata": {},
   "outputs": [
    {
     "data": {
      "text/plain": [
       "['check_image_set-make_batch_folder', '0', '0', '0', '0.004']"
      ]
     },
     "execution_count": 9,
     "metadata": {},
     "output_type": "execute_result"
    }
   ],
   "source": [
    "next(g)"
   ]
  },
  {
   "cell_type": "markdown",
   "metadata": {},
   "source": [
    "### More advanced\n",
    "\n",
    "How would you modify `read_csv()` so that it is possible to specify what\n",
    "types the CSV file's columns are?  Can you implement it so that a\n",
    "row is a list of items of the right type (i.e., not all strings)?"
   ]
  },
  {
   "cell_type": "markdown",
   "metadata": {},
   "source": [
    "A simple way is to add a parameter `converters`, which is a list of functions to use to convert each field in a row from a string (as read from the file) to the right Python type. Some rows could however be malformed (e.g., they contain less fields, or some fields fail to convert), so we should decide what to do in this case: ignore, or raise an error?"
   ]
  },
  {
   "cell_type": "code",
   "execution_count": 10,
   "metadata": {},
   "outputs": [],
   "source": [
    "def read_csv(path, converters):\n",
    "    with open(path, 'r') as input_file:\n",
    "        for line in input_file:\n",
    "            parts = line.split(',')\n",
    "            # remove spaces before and after any comma\n",
    "            # (to be conformant to CSV usage, we should also remove quotes)\n",
    "            row = []\n",
    "            if len(parts) != len(converters):\n",
    "                # error!\n",
    "                raise RuntimeError(\"Number of items in line does not match number of converters\")\n",
    "            for i in range(len(parts)):\n",
    "                conv = converters[i]\n",
    "                row.append(conv(item.strip()))\n",
    "            # commit row\n",
    "            yield row"
   ]
  }
 ],
 "metadata": {
  "kernelspec": {
   "display_name": "Python 3",
   "language": "python",
   "name": "python3"
  },
  "language_info": {
   "codemirror_mode": {
    "name": "ipython",
    "version": 3
   },
   "file_extension": ".py",
   "mimetype": "text/x-python",
   "name": "python",
   "nbconvert_exporter": "python",
   "pygments_lexer": "ipython3",
   "version": "3.6.4"
  }
 },
 "nbformat": 4,
 "nbformat_minor": 2
}
