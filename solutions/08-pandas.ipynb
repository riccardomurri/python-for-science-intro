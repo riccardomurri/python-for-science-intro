{
 "cells": [
  {
   "cell_type": "markdown",
   "metadata": {
    "slideshow": {
     "slide_type": "skip"
    }
   },
   "source": [
    "<a rel=\"license\" href=\"http://creativecommons.org/licenses/by-sa/4.0/\"><img alt=\"Creative Commons License\" style=\"border-width:0\" src=\"https://i.creativecommons.org/l/by-sa/4.0/80x15.png\" /></a><div align=\"center\">This work is licensed under a <a rel=\"license\" href=\"http://creativecommons.org/licenses/by-sa/4.0/\">Creative Commons Attribution-ShareAlike 4.0 International License</a>.</div>"
   ]
  },
  {
   "cell_type": "markdown",
   "metadata": {},
   "source": [
    "----"
   ]
  },
  {
   "cell_type": "markdown",
   "metadata": {
    "slideshow": {
     "slide_type": "slide"
    }
   },
   "source": [
    "# Data Analysis with Pandas\n",
    "\n",
    "[Pandas](https://pandas.pydata.org/) is an open source, BSD-licensed library providing high-performance, easy-to-use data structures and data analysis tools for the Python programming language."
   ]
  },
  {
   "cell_type": "markdown",
   "metadata": {
    "slideshow": {
     "slide_type": "slide"
    }
   },
   "source": [
    "## Preamble\n",
    "\n",
    "Before using PanDas, we must import it.  PanDas depends on NumPy and can interchange data with it, so let's import both of them using abbreviated names."
   ]
  },
  {
   "cell_type": "code",
   "execution_count": 1,
   "metadata": {
    "slideshow": {
     "slide_type": "-"
    }
   },
   "outputs": [],
   "source": [
    "import numpy as np\n",
    "import pandas as pd"
   ]
  },
  {
   "cell_type": "markdown",
   "metadata": {
    "slideshow": {
     "slide_type": "skip"
    }
   },
   "source": [
    "Evaluating the following cell allows us to display plots *in* the Python notebook:"
   ]
  },
  {
   "cell_type": "code",
   "execution_count": 2,
   "metadata": {
    "slideshow": {
     "slide_type": "skip"
    }
   },
   "outputs": [],
   "source": [
    "%matplotlib inline\n",
    "\n",
    "import matplotlib.pyplot as plt\n",
    "\n",
    "# make large figures so we can appreciate details\n",
    "plt.rc('figure', figsize=(20.0, 15.0))\n",
    "\n",
    "import seaborn as sea\n",
    "\n",
    "# use visual style like R's ggplot2\n",
    "sea.set_style('darkgrid')"
   ]
  },
  {
   "cell_type": "markdown",
   "metadata": {},
   "source": [
    "----"
   ]
  },
  {
   "cell_type": "markdown",
   "metadata": {
    "slideshow": {
     "slide_type": "slide"
    }
   },
   "source": [
    "## Exercise 8.A\n",
    "\n",
    "Load \"metadata\" files into an array `mds` of tables; that is to say, `mds[0]` should be a PanDas `DataFrame` holding the values read from file `BIO325_CRISPR_Yap_p1_D09_Cells_metadata.csv`, `mds[1]` holds values from `BIO325_CRISPR_Yap_p1_D08_Cells_metadata.csv`, and so on.\n",
    "\n",
    "Similarly, load \"feature values\" files into an array of tables `fvs`.\n",
    "\n",
    "How many rows are in each table?"
   ]
  },
  {
   "cell_type": "code",
   "execution_count": 21,
   "metadata": {
    "slideshow": {
     "slide_type": "skip"
    }
   },
   "outputs": [],
   "source": [
    "mds = list(map(pd.read_csv, [\n",
    "    'BIO325_CRISPR_Yap_p1_D07_Cells_metadata.csv',\n",
    "    'BIO325_CRISPR_Yap_p1_D08_Cells_metadata.csv',\n",
    "    'BIO325_CRISPR_Yap_p1_D09_Cells_metadata.csv',\n",
    "    'BIO325_CRISPR_Yap_p1_D10_Cells_metadata.csv',\n",
    "]))\n",
    "\n",
    "fvs = list(map(pd.read_csv, [\n",
    "    'BIO325_CRISPR_Yap_p1_D07_Cells_feature-values.csv.gz',\n",
    "    'BIO325_CRISPR_Yap_p1_D08_Cells_feature-values.csv.gz',\n",
    "    'BIO325_CRISPR_Yap_p1_D09_Cells_feature-values.csv.gz',\n",
    "    'BIO325_CRISPR_Yap_p1_D10_Cells_feature-values.csv.gz',\n",
    "]))"
   ]
  },
  {
   "cell_type": "code",
   "execution_count": 22,
   "metadata": {
    "slideshow": {
     "slide_type": "skip"
    }
   },
   "outputs": [
    {
     "data": {
      "text/html": [
       "<div>\n",
       "<style scoped>\n",
       "    .dataframe tbody tr th:only-of-type {\n",
       "        vertical-align: middle;\n",
       "    }\n",
       "\n",
       "    .dataframe tbody tr th {\n",
       "        vertical-align: top;\n",
       "    }\n",
       "\n",
       "    .dataframe thead th {\n",
       "        text-align: right;\n",
       "    }\n",
       "</style>\n",
       "<table border=\"1\" class=\"dataframe\">\n",
       "  <thead>\n",
       "    <tr style=\"text-align: right;\">\n",
       "      <th></th>\n",
       "      <th>mapobject_id</th>\n",
       "      <th>plate_name</th>\n",
       "      <th>well_name</th>\n",
       "      <th>well_pos_y</th>\n",
       "      <th>well_pos_x</th>\n",
       "      <th>tpoint</th>\n",
       "      <th>zplane</th>\n",
       "      <th>label</th>\n",
       "      <th>is_border</th>\n",
       "      <th>Classification-5</th>\n",
       "      <th>TPlus</th>\n",
       "    </tr>\n",
       "  </thead>\n",
       "  <tbody>\n",
       "    <tr>\n",
       "      <th>0</th>\n",
       "      <td>512061</td>\n",
       "      <td>p1</td>\n",
       "      <td>D08</td>\n",
       "      <td>0</td>\n",
       "      <td>0</td>\n",
       "      <td>0</td>\n",
       "      <td>0</td>\n",
       "      <td>1</td>\n",
       "      <td>1</td>\n",
       "      <td>0.0</td>\n",
       "      <td>0.0</td>\n",
       "    </tr>\n",
       "    <tr>\n",
       "      <th>1</th>\n",
       "      <td>512062</td>\n",
       "      <td>p1</td>\n",
       "      <td>D08</td>\n",
       "      <td>0</td>\n",
       "      <td>0</td>\n",
       "      <td>0</td>\n",
       "      <td>0</td>\n",
       "      <td>2</td>\n",
       "      <td>1</td>\n",
       "      <td>0.0</td>\n",
       "      <td>0.0</td>\n",
       "    </tr>\n",
       "    <tr>\n",
       "      <th>2</th>\n",
       "      <td>512063</td>\n",
       "      <td>p1</td>\n",
       "      <td>D08</td>\n",
       "      <td>0</td>\n",
       "      <td>0</td>\n",
       "      <td>0</td>\n",
       "      <td>0</td>\n",
       "      <td>3</td>\n",
       "      <td>1</td>\n",
       "      <td>0.0</td>\n",
       "      <td>0.0</td>\n",
       "    </tr>\n",
       "    <tr>\n",
       "      <th>3</th>\n",
       "      <td>512064</td>\n",
       "      <td>p1</td>\n",
       "      <td>D08</td>\n",
       "      <td>0</td>\n",
       "      <td>0</td>\n",
       "      <td>0</td>\n",
       "      <td>0</td>\n",
       "      <td>4</td>\n",
       "      <td>1</td>\n",
       "      <td>0.0</td>\n",
       "      <td>0.0</td>\n",
       "    </tr>\n",
       "    <tr>\n",
       "      <th>4</th>\n",
       "      <td>512065</td>\n",
       "      <td>p1</td>\n",
       "      <td>D08</td>\n",
       "      <td>0</td>\n",
       "      <td>0</td>\n",
       "      <td>0</td>\n",
       "      <td>0</td>\n",
       "      <td>5</td>\n",
       "      <td>1</td>\n",
       "      <td>0.0</td>\n",
       "      <td>0.0</td>\n",
       "    </tr>\n",
       "  </tbody>\n",
       "</table>\n",
       "</div>"
      ],
      "text/plain": [
       "   mapobject_id plate_name well_name  well_pos_y  well_pos_x  tpoint  zplane  \\\n",
       "0        512061         p1       D08           0           0       0       0   \n",
       "1        512062         p1       D08           0           0       0       0   \n",
       "2        512063         p1       D08           0           0       0       0   \n",
       "3        512064         p1       D08           0           0       0       0   \n",
       "4        512065         p1       D08           0           0       0       0   \n",
       "\n",
       "   label  is_border  Classification-5  TPlus  \n",
       "0      1          1               0.0    0.0  \n",
       "1      2          1               0.0    0.0  \n",
       "2      3          1               0.0    0.0  \n",
       "3      4          1               0.0    0.0  \n",
       "4      5          1               0.0    0.0  "
      ]
     },
     "execution_count": 22,
     "metadata": {},
     "output_type": "execute_result"
    }
   ],
   "source": [
    "mds[1].head()"
   ]
  },
  {
   "cell_type": "code",
   "execution_count": 23,
   "metadata": {
    "slideshow": {
     "slide_type": "skip"
    }
   },
   "outputs": [
    {
     "data": {
      "text/html": [
       "<div>\n",
       "<style scoped>\n",
       "    .dataframe tbody tr th:only-of-type {\n",
       "        vertical-align: middle;\n",
       "    }\n",
       "\n",
       "    .dataframe tbody tr th {\n",
       "        vertical-align: top;\n",
       "    }\n",
       "\n",
       "    .dataframe thead th {\n",
       "        text-align: right;\n",
       "    }\n",
       "</style>\n",
       "<table border=\"1\" class=\"dataframe\">\n",
       "  <thead>\n",
       "    <tr style=\"text-align: right;\">\n",
       "      <th></th>\n",
       "      <th>mapobject_id</th>\n",
       "      <th>Nuclei_Intensity_max_A02_C01</th>\n",
       "      <th>Nuclei_Intensity_mean_A02_C01</th>\n",
       "      <th>Nuclei_Intensity_min_A02_C01</th>\n",
       "      <th>Nuclei_Intensity_sum_A02_C01</th>\n",
       "      <th>Nuclei_Intensity_std_A02_C01</th>\n",
       "      <th>Intensity_max_A01_C02</th>\n",
       "      <th>Intensity_mean_A01_C02</th>\n",
       "      <th>Intensity_min_A01_C02</th>\n",
       "      <th>Intensity_sum_A01_C02</th>\n",
       "      <th>...</th>\n",
       "      <th>Texture_LBP-radius-5-26_A01_C03</th>\n",
       "      <th>Texture_LBP-radius-5-27_A01_C03</th>\n",
       "      <th>Texture_LBP-radius-5-28_A01_C03</th>\n",
       "      <th>Texture_LBP-radius-5-29_A01_C03</th>\n",
       "      <th>Texture_LBP-radius-5-30_A01_C03</th>\n",
       "      <th>Texture_LBP-radius-5-31_A01_C03</th>\n",
       "      <th>Texture_LBP-radius-5-32_A01_C03</th>\n",
       "      <th>Texture_LBP-radius-5-33_A01_C03</th>\n",
       "      <th>Texture_LBP-radius-5-34_A01_C03</th>\n",
       "      <th>Texture_LBP-radius-5-35_A01_C03</th>\n",
       "    </tr>\n",
       "  </thead>\n",
       "  <tbody>\n",
       "    <tr>\n",
       "      <th>0</th>\n",
       "      <td>533047</td>\n",
       "      <td>732.0</td>\n",
       "      <td>300.344502</td>\n",
       "      <td>122.0</td>\n",
       "      <td>349601.0</td>\n",
       "      <td>111.768719</td>\n",
       "      <td>13577.0</td>\n",
       "      <td>4207.824389</td>\n",
       "      <td>366.0</td>\n",
       "      <td>16700855.0</td>\n",
       "      <td>...</td>\n",
       "      <td>64.0</td>\n",
       "      <td>142.0</td>\n",
       "      <td>6.0</td>\n",
       "      <td>26.0</td>\n",
       "      <td>21.0</td>\n",
       "      <td>82.0</td>\n",
       "      <td>53.0</td>\n",
       "      <td>27.0</td>\n",
       "      <td>259.0</td>\n",
       "      <td>172.0</td>\n",
       "    </tr>\n",
       "    <tr>\n",
       "      <th>1</th>\n",
       "      <td>533048</td>\n",
       "      <td>387.0</td>\n",
       "      <td>243.867097</td>\n",
       "      <td>124.0</td>\n",
       "      <td>377994.0</td>\n",
       "      <td>43.024769</td>\n",
       "      <td>9372.0</td>\n",
       "      <td>3547.173381</td>\n",
       "      <td>267.0</td>\n",
       "      <td>13912014.0</td>\n",
       "      <td>...</td>\n",
       "      <td>47.0</td>\n",
       "      <td>183.0</td>\n",
       "      <td>1.0</td>\n",
       "      <td>14.0</td>\n",
       "      <td>7.0</td>\n",
       "      <td>58.0</td>\n",
       "      <td>55.0</td>\n",
       "      <td>18.0</td>\n",
       "      <td>203.0</td>\n",
       "      <td>127.0</td>\n",
       "    </tr>\n",
       "    <tr>\n",
       "      <th>2</th>\n",
       "      <td>533049</td>\n",
       "      <td>323.0</td>\n",
       "      <td>223.507143</td>\n",
       "      <td>122.0</td>\n",
       "      <td>281619.0</td>\n",
       "      <td>43.917192</td>\n",
       "      <td>7575.0</td>\n",
       "      <td>3285.757202</td>\n",
       "      <td>363.0</td>\n",
       "      <td>7984390.0</td>\n",
       "      <td>...</td>\n",
       "      <td>40.0</td>\n",
       "      <td>118.0</td>\n",
       "      <td>1.0</td>\n",
       "      <td>7.0</td>\n",
       "      <td>0.0</td>\n",
       "      <td>35.0</td>\n",
       "      <td>18.0</td>\n",
       "      <td>4.0</td>\n",
       "      <td>97.0</td>\n",
       "      <td>40.0</td>\n",
       "    </tr>\n",
       "    <tr>\n",
       "      <th>3</th>\n",
       "      <td>533050</td>\n",
       "      <td>370.0</td>\n",
       "      <td>238.769716</td>\n",
       "      <td>124.0</td>\n",
       "      <td>302760.0</td>\n",
       "      <td>47.942993</td>\n",
       "      <td>6527.0</td>\n",
       "      <td>2297.226913</td>\n",
       "      <td>290.0</td>\n",
       "      <td>12786365.0</td>\n",
       "      <td>...</td>\n",
       "      <td>95.0</td>\n",
       "      <td>248.0</td>\n",
       "      <td>7.0</td>\n",
       "      <td>18.0</td>\n",
       "      <td>17.0</td>\n",
       "      <td>126.0</td>\n",
       "      <td>83.0</td>\n",
       "      <td>25.0</td>\n",
       "      <td>361.0</td>\n",
       "      <td>268.0</td>\n",
       "    </tr>\n",
       "    <tr>\n",
       "      <th>4</th>\n",
       "      <td>533051</td>\n",
       "      <td>297.0</td>\n",
       "      <td>217.765554</td>\n",
       "      <td>122.0</td>\n",
       "      <td>287015.0</td>\n",
       "      <td>33.750384</td>\n",
       "      <td>7825.0</td>\n",
       "      <td>3038.532320</td>\n",
       "      <td>511.0</td>\n",
       "      <td>22187363.0</td>\n",
       "      <td>...</td>\n",
       "      <td>104.0</td>\n",
       "      <td>366.0</td>\n",
       "      <td>6.0</td>\n",
       "      <td>43.0</td>\n",
       "      <td>32.0</td>\n",
       "      <td>122.0</td>\n",
       "      <td>85.0</td>\n",
       "      <td>42.0</td>\n",
       "      <td>421.0</td>\n",
       "      <td>302.0</td>\n",
       "    </tr>\n",
       "  </tbody>\n",
       "</table>\n",
       "<p>5 rows × 205 columns</p>\n",
       "</div>"
      ],
      "text/plain": [
       "   mapobject_id  Nuclei_Intensity_max_A02_C01  Nuclei_Intensity_mean_A02_C01  \\\n",
       "0        533047                         732.0                     300.344502   \n",
       "1        533048                         387.0                     243.867097   \n",
       "2        533049                         323.0                     223.507143   \n",
       "3        533050                         370.0                     238.769716   \n",
       "4        533051                         297.0                     217.765554   \n",
       "\n",
       "   Nuclei_Intensity_min_A02_C01  Nuclei_Intensity_sum_A02_C01  \\\n",
       "0                         122.0                      349601.0   \n",
       "1                         124.0                      377994.0   \n",
       "2                         122.0                      281619.0   \n",
       "3                         124.0                      302760.0   \n",
       "4                         122.0                      287015.0   \n",
       "\n",
       "   Nuclei_Intensity_std_A02_C01  Intensity_max_A01_C02  \\\n",
       "0                    111.768719                13577.0   \n",
       "1                     43.024769                 9372.0   \n",
       "2                     43.917192                 7575.0   \n",
       "3                     47.942993                 6527.0   \n",
       "4                     33.750384                 7825.0   \n",
       "\n",
       "   Intensity_mean_A01_C02  Intensity_min_A01_C02  Intensity_sum_A01_C02  \\\n",
       "0             4207.824389                  366.0             16700855.0   \n",
       "1             3547.173381                  267.0             13912014.0   \n",
       "2             3285.757202                  363.0              7984390.0   \n",
       "3             2297.226913                  290.0             12786365.0   \n",
       "4             3038.532320                  511.0             22187363.0   \n",
       "\n",
       "                ...                 Texture_LBP-radius-5-26_A01_C03  \\\n",
       "0               ...                                            64.0   \n",
       "1               ...                                            47.0   \n",
       "2               ...                                            40.0   \n",
       "3               ...                                            95.0   \n",
       "4               ...                                           104.0   \n",
       "\n",
       "   Texture_LBP-radius-5-27_A01_C03  Texture_LBP-radius-5-28_A01_C03  \\\n",
       "0                            142.0                              6.0   \n",
       "1                            183.0                              1.0   \n",
       "2                            118.0                              1.0   \n",
       "3                            248.0                              7.0   \n",
       "4                            366.0                              6.0   \n",
       "\n",
       "   Texture_LBP-radius-5-29_A01_C03  Texture_LBP-radius-5-30_A01_C03  \\\n",
       "0                             26.0                             21.0   \n",
       "1                             14.0                              7.0   \n",
       "2                              7.0                              0.0   \n",
       "3                             18.0                             17.0   \n",
       "4                             43.0                             32.0   \n",
       "\n",
       "   Texture_LBP-radius-5-31_A01_C03  Texture_LBP-radius-5-32_A01_C03  \\\n",
       "0                             82.0                             53.0   \n",
       "1                             58.0                             55.0   \n",
       "2                             35.0                             18.0   \n",
       "3                            126.0                             83.0   \n",
       "4                            122.0                             85.0   \n",
       "\n",
       "   Texture_LBP-radius-5-33_A01_C03  Texture_LBP-radius-5-34_A01_C03  \\\n",
       "0                             27.0                            259.0   \n",
       "1                             18.0                            203.0   \n",
       "2                              4.0                             97.0   \n",
       "3                             25.0                            361.0   \n",
       "4                             42.0                            421.0   \n",
       "\n",
       "   Texture_LBP-radius-5-35_A01_C03  \n",
       "0                            172.0  \n",
       "1                            127.0  \n",
       "2                             40.0  \n",
       "3                            268.0  \n",
       "4                            302.0  \n",
       "\n",
       "[5 rows x 205 columns]"
      ]
     },
     "execution_count": 23,
     "metadata": {},
     "output_type": "execute_result"
    }
   ],
   "source": [
    "fvs[2].head()"
   ]
  },
  {
   "cell_type": "markdown",
   "metadata": {},
   "source": [
    "----"
   ]
  },
  {
   "cell_type": "markdown",
   "metadata": {},
   "source": [
    "## Exercise 8.B\n",
    "\n",
    "What is the mean value of column `Intensity_mean_A01_C03` in the \"feature values\" of each well?"
   ]
  },
  {
   "cell_type": "code",
   "execution_count": 24,
   "metadata": {
    "slideshow": {
     "slide_type": "skip"
    }
   },
   "outputs": [
    {
     "name": "stdout",
     "output_type": "stream",
     "text": [
      "178.42255450758492\n",
      "185.8060821058702\n",
      "179.5681108325277\n",
      "183.5100216211156\n"
     ]
    }
   ],
   "source": [
    "for i in range(4):\n",
    "    print(np.mean(fvs[i]['Intensity_mean_A01_C03']))"
   ]
  },
  {
   "cell_type": "markdown",
   "metadata": {},
   "source": [
    "----"
   ]
  },
  {
   "cell_type": "markdown",
   "metadata": {},
   "source": [
    "## Exercise 8.C\n",
    "\n",
    "How many unique values are in column `TPlus` in the metadata of each well?"
   ]
  },
  {
   "cell_type": "code",
   "execution_count": 25,
   "metadata": {
    "slideshow": {
     "slide_type": "skip"
    }
   },
   "outputs": [
    {
     "name": "stdout",
     "output_type": "stream",
     "text": [
      "2\n",
      "2\n",
      "2\n",
      "2\n"
     ]
    }
   ],
   "source": [
    "for i in range(4):\n",
    "    print(len(np.unique(mds[i]['TPlus'])))"
   ]
  },
  {
   "cell_type": "markdown",
   "metadata": {},
   "source": [
    "----"
   ]
  },
  {
   "cell_type": "markdown",
   "metadata": {},
   "source": [
    "## Exercise 8.D\n",
    "\n",
    "The `is_border` column in a \"metadata\" table tells you whether a cell lies at the border of an acquisition site or not (1 = lies at the border, 0 = does not touch nor cross the border).\n",
    "\n",
    "Can you count the number of \"border\" cells in each well?"
   ]
  },
  {
   "cell_type": "code",
   "execution_count": 26,
   "metadata": {
    "slideshow": {
     "slide_type": "skip"
    }
   },
   "outputs": [
    {
     "name": "stdout",
     "output_type": "stream",
     "text": [
      "2197\n",
      "2282\n",
      "1884\n",
      "2500\n"
     ]
    }
   ],
   "source": [
    "for i in range(4):\n",
    "    print(np.sum(mds[i]['is_border']))"
   ]
  },
  {
   "cell_type": "markdown",
   "metadata": {
    "slideshow": {
     "slide_type": "skip"
    }
   },
   "source": [
    "-----"
   ]
  },
  {
   "cell_type": "markdown",
   "metadata": {
    "slideshow": {
     "slide_type": "slide"
    }
   },
   "source": [
    "## Exercise 8.E \n",
    "\n",
    "Make stacked tables:\n",
    "\n",
    "- `md`, combining metadata for all wells\n",
    "- `fv`, combining feature values for all wells"
   ]
  },
  {
   "cell_type": "code",
   "execution_count": 39,
   "metadata": {
    "slideshow": {
     "slide_type": "skip"
    }
   },
   "outputs": [],
   "source": [
    "md = pd.concat(mds)\n",
    "fv = pd.concat(fvs)"
   ]
  },
  {
   "cell_type": "markdown",
   "metadata": {},
   "source": [
    "----"
   ]
  },
  {
   "cell_type": "markdown",
   "metadata": {},
   "source": [
    "## Exercise 8.F\n",
    "\n",
    "Make a single large table `all` by joining tables `md` and `fv` over the common column `mapobject_id`.\n",
    "\n",
    "How many rows are in the combined table?"
   ]
  },
  {
   "cell_type": "code",
   "execution_count": 40,
   "metadata": {
    "slideshow": {
     "slide_type": "skip"
    }
   },
   "outputs": [],
   "source": [
    "all = md.merge(fv, how='inner', on=['mapobject_id'])"
   ]
  },
  {
   "cell_type": "markdown",
   "metadata": {
    "slideshow": {
     "slide_type": "skip"
    }
   },
   "source": [
    "If your solution is correct, evaluating the following cells should give the results already shown:"
   ]
  },
  {
   "cell_type": "code",
   "execution_count": 41,
   "metadata": {
    "slideshow": {
     "slide_type": "skip"
    }
   },
   "outputs": [
    {
     "data": {
      "text/plain": [
       "(100568, 215)"
      ]
     },
     "execution_count": 41,
     "metadata": {},
     "output_type": "execute_result"
    }
   ],
   "source": [
    "all.shape"
   ]
  },
  {
   "cell_type": "code",
   "execution_count": 42,
   "metadata": {
    "slideshow": {
     "slide_type": "skip"
    }
   },
   "outputs": [
    {
     "data": {
      "text/html": [
       "<div>\n",
       "<style scoped>\n",
       "    .dataframe tbody tr th:only-of-type {\n",
       "        vertical-align: middle;\n",
       "    }\n",
       "\n",
       "    .dataframe tbody tr th {\n",
       "        vertical-align: top;\n",
       "    }\n",
       "\n",
       "    .dataframe thead th {\n",
       "        text-align: right;\n",
       "    }\n",
       "</style>\n",
       "<table border=\"1\" class=\"dataframe\">\n",
       "  <thead>\n",
       "    <tr style=\"text-align: right;\">\n",
       "      <th></th>\n",
       "      <th>mapobject_id</th>\n",
       "      <th>plate_name</th>\n",
       "      <th>well_name</th>\n",
       "      <th>well_pos_y</th>\n",
       "      <th>well_pos_x</th>\n",
       "      <th>tpoint</th>\n",
       "      <th>zplane</th>\n",
       "      <th>label</th>\n",
       "      <th>is_border</th>\n",
       "      <th>Classification-5</th>\n",
       "      <th>...</th>\n",
       "      <th>Texture_LBP-radius-5-26_A01_C03</th>\n",
       "      <th>Texture_LBP-radius-5-27_A01_C03</th>\n",
       "      <th>Texture_LBP-radius-5-28_A01_C03</th>\n",
       "      <th>Texture_LBP-radius-5-29_A01_C03</th>\n",
       "      <th>Texture_LBP-radius-5-30_A01_C03</th>\n",
       "      <th>Texture_LBP-radius-5-31_A01_C03</th>\n",
       "      <th>Texture_LBP-radius-5-32_A01_C03</th>\n",
       "      <th>Texture_LBP-radius-5-33_A01_C03</th>\n",
       "      <th>Texture_LBP-radius-5-34_A01_C03</th>\n",
       "      <th>Texture_LBP-radius-5-35_A01_C03</th>\n",
       "    </tr>\n",
       "  </thead>\n",
       "  <tbody>\n",
       "    <tr>\n",
       "      <th>0</th>\n",
       "      <td>566404</td>\n",
       "      <td>p1</td>\n",
       "      <td>D07</td>\n",
       "      <td>0</td>\n",
       "      <td>0</td>\n",
       "      <td>0</td>\n",
       "      <td>0</td>\n",
       "      <td>1</td>\n",
       "      <td>1</td>\n",
       "      <td>0.0</td>\n",
       "      <td>...</td>\n",
       "      <td>52.0</td>\n",
       "      <td>133.0</td>\n",
       "      <td>1.0</td>\n",
       "      <td>20.0</td>\n",
       "      <td>21.0</td>\n",
       "      <td>72.0</td>\n",
       "      <td>46.0</td>\n",
       "      <td>22.0</td>\n",
       "      <td>214.0</td>\n",
       "      <td>153.0</td>\n",
       "    </tr>\n",
       "    <tr>\n",
       "      <th>1</th>\n",
       "      <td>566405</td>\n",
       "      <td>p1</td>\n",
       "      <td>D07</td>\n",
       "      <td>0</td>\n",
       "      <td>0</td>\n",
       "      <td>0</td>\n",
       "      <td>0</td>\n",
       "      <td>2</td>\n",
       "      <td>1</td>\n",
       "      <td>0.0</td>\n",
       "      <td>...</td>\n",
       "      <td>50.0</td>\n",
       "      <td>217.0</td>\n",
       "      <td>6.0</td>\n",
       "      <td>20.0</td>\n",
       "      <td>15.0</td>\n",
       "      <td>78.0</td>\n",
       "      <td>44.0</td>\n",
       "      <td>16.0</td>\n",
       "      <td>225.0</td>\n",
       "      <td>119.0</td>\n",
       "    </tr>\n",
       "    <tr>\n",
       "      <th>2</th>\n",
       "      <td>566406</td>\n",
       "      <td>p1</td>\n",
       "      <td>D07</td>\n",
       "      <td>0</td>\n",
       "      <td>0</td>\n",
       "      <td>0</td>\n",
       "      <td>0</td>\n",
       "      <td>3</td>\n",
       "      <td>1</td>\n",
       "      <td>0.0</td>\n",
       "      <td>...</td>\n",
       "      <td>100.0</td>\n",
       "      <td>404.0</td>\n",
       "      <td>5.0</td>\n",
       "      <td>54.0</td>\n",
       "      <td>27.0</td>\n",
       "      <td>171.0</td>\n",
       "      <td>83.0</td>\n",
       "      <td>38.0</td>\n",
       "      <td>489.0</td>\n",
       "      <td>309.0</td>\n",
       "    </tr>\n",
       "    <tr>\n",
       "      <th>3</th>\n",
       "      <td>566407</td>\n",
       "      <td>p1</td>\n",
       "      <td>D07</td>\n",
       "      <td>0</td>\n",
       "      <td>0</td>\n",
       "      <td>0</td>\n",
       "      <td>0</td>\n",
       "      <td>4</td>\n",
       "      <td>1</td>\n",
       "      <td>0.0</td>\n",
       "      <td>...</td>\n",
       "      <td>30.0</td>\n",
       "      <td>186.0</td>\n",
       "      <td>1.0</td>\n",
       "      <td>4.0</td>\n",
       "      <td>5.0</td>\n",
       "      <td>42.0</td>\n",
       "      <td>19.0</td>\n",
       "      <td>6.0</td>\n",
       "      <td>135.0</td>\n",
       "      <td>66.0</td>\n",
       "    </tr>\n",
       "    <tr>\n",
       "      <th>4</th>\n",
       "      <td>566408</td>\n",
       "      <td>p1</td>\n",
       "      <td>D07</td>\n",
       "      <td>0</td>\n",
       "      <td>0</td>\n",
       "      <td>0</td>\n",
       "      <td>0</td>\n",
       "      <td>5</td>\n",
       "      <td>1</td>\n",
       "      <td>0.0</td>\n",
       "      <td>...</td>\n",
       "      <td>65.0</td>\n",
       "      <td>246.0</td>\n",
       "      <td>3.0</td>\n",
       "      <td>24.0</td>\n",
       "      <td>22.0</td>\n",
       "      <td>94.0</td>\n",
       "      <td>46.0</td>\n",
       "      <td>37.0</td>\n",
       "      <td>259.0</td>\n",
       "      <td>185.0</td>\n",
       "    </tr>\n",
       "  </tbody>\n",
       "</table>\n",
       "<p>5 rows × 215 columns</p>\n",
       "</div>"
      ],
      "text/plain": [
       "   mapobject_id plate_name well_name  well_pos_y  well_pos_x  tpoint  zplane  \\\n",
       "0        566404         p1       D07           0           0       0       0   \n",
       "1        566405         p1       D07           0           0       0       0   \n",
       "2        566406         p1       D07           0           0       0       0   \n",
       "3        566407         p1       D07           0           0       0       0   \n",
       "4        566408         p1       D07           0           0       0       0   \n",
       "\n",
       "   label  is_border  Classification-5               ...                 \\\n",
       "0      1          1               0.0               ...                  \n",
       "1      2          1               0.0               ...                  \n",
       "2      3          1               0.0               ...                  \n",
       "3      4          1               0.0               ...                  \n",
       "4      5          1               0.0               ...                  \n",
       "\n",
       "   Texture_LBP-radius-5-26_A01_C03  Texture_LBP-radius-5-27_A01_C03  \\\n",
       "0                             52.0                            133.0   \n",
       "1                             50.0                            217.0   \n",
       "2                            100.0                            404.0   \n",
       "3                             30.0                            186.0   \n",
       "4                             65.0                            246.0   \n",
       "\n",
       "   Texture_LBP-radius-5-28_A01_C03  Texture_LBP-radius-5-29_A01_C03  \\\n",
       "0                              1.0                             20.0   \n",
       "1                              6.0                             20.0   \n",
       "2                              5.0                             54.0   \n",
       "3                              1.0                              4.0   \n",
       "4                              3.0                             24.0   \n",
       "\n",
       "   Texture_LBP-radius-5-30_A01_C03  Texture_LBP-radius-5-31_A01_C03  \\\n",
       "0                             21.0                             72.0   \n",
       "1                             15.0                             78.0   \n",
       "2                             27.0                            171.0   \n",
       "3                              5.0                             42.0   \n",
       "4                             22.0                             94.0   \n",
       "\n",
       "   Texture_LBP-radius-5-32_A01_C03  Texture_LBP-radius-5-33_A01_C03  \\\n",
       "0                             46.0                             22.0   \n",
       "1                             44.0                             16.0   \n",
       "2                             83.0                             38.0   \n",
       "3                             19.0                              6.0   \n",
       "4                             46.0                             37.0   \n",
       "\n",
       "   Texture_LBP-radius-5-34_A01_C03  Texture_LBP-radius-5-35_A01_C03  \n",
       "0                            214.0                            153.0  \n",
       "1                            225.0                            119.0  \n",
       "2                            489.0                            309.0  \n",
       "3                            135.0                             66.0  \n",
       "4                            259.0                            185.0  \n",
       "\n",
       "[5 rows x 215 columns]"
      ]
     },
     "execution_count": 42,
     "metadata": {},
     "output_type": "execute_result"
    }
   ],
   "source": [
    "all.head()"
   ]
  },
  {
   "cell_type": "markdown",
   "metadata": {},
   "source": [
    "----"
   ]
  },
  {
   "cell_type": "markdown",
   "metadata": {},
   "source": [
    "## Exercise 8.G\n",
    "\n",
    "Make a table `good` by extracting from `all` only rows which refer to objects that are *not* \"border\" objects.\n",
    "\n",
    "How many good objects are there?  \n",
    "\n",
    "*Advanced:* could you compute this number from the selector alone?"
   ]
  },
  {
   "cell_type": "code",
   "execution_count": 43,
   "metadata": {
    "slideshow": {
     "slide_type": "skip"
    }
   },
   "outputs": [],
   "source": [
    "good_rows = (all['is_border'] == 0)\n",
    "\n",
    "good = all.loc[good_rows]"
   ]
  },
  {
   "cell_type": "markdown",
   "metadata": {},
   "source": [
    "If your solution is correct evaluating the following cell gives the result `(91705, 215)`."
   ]
  },
  {
   "cell_type": "code",
   "execution_count": 44,
   "metadata": {
    "slideshow": {
     "slide_type": "skip"
    }
   },
   "outputs": [
    {
     "data": {
      "text/plain": [
       "(91705, 215)"
      ]
     },
     "execution_count": 44,
     "metadata": {},
     "output_type": "execute_result"
    }
   ],
   "source": [
    "good.shape"
   ]
  },
  {
   "cell_type": "markdown",
   "metadata": {
    "slideshow": {
     "slide_type": "skip"
    }
   },
   "source": [
    "This can be computed from the selector alone by noting that the selector is just an array of booleans, where `True` counts as `1` and `False` counts as `0` -- so summing the array will give the required number:"
   ]
  },
  {
   "cell_type": "code",
   "execution_count": 45,
   "metadata": {
    "slideshow": {
     "slide_type": "skip"
    }
   },
   "outputs": [
    {
     "data": {
      "text/plain": [
       "91705"
      ]
     },
     "execution_count": 45,
     "metadata": {},
     "output_type": "execute_result"
    }
   ],
   "source": [
    "np.sum(good_rows)"
   ]
  },
  {
   "cell_type": "markdown",
   "metadata": {},
   "source": [
    "----"
   ]
  },
  {
   "cell_type": "markdown",
   "metadata": {},
   "source": [
    "## Exercise 8.H\n",
    "\n",
    "Make two tables `all0` and `all1` by splitting table `all` on the two values of column `TPlus` (`0` or `1`).\n",
    "What is the mean of column `Intensity_mean_A01_C03` in each table?  And the std deviation?"
   ]
  },
  {
   "cell_type": "code",
   "execution_count": 46,
   "metadata": {
    "slideshow": {
     "slide_type": "skip"
    }
   },
   "outputs": [],
   "source": [
    "tp0_rows = (all['TPlus'] == 0)\n",
    "tp1_rows = (all['TPlus'] == 1)  # or: tp1_rows = ~tp0_rows\n",
    "\n",
    "all0 = all.loc[tp0_rows]\n",
    "all1 = all.loc[tp1_rows]"
   ]
  },
  {
   "cell_type": "markdown",
   "metadata": {
    "slideshow": {
     "slide_type": "skip"
    }
   },
   "source": [
    "The `.decribe()` method returns the basic descriptive statistics:"
   ]
  },
  {
   "cell_type": "code",
   "execution_count": 47,
   "metadata": {
    "slideshow": {
     "slide_type": "skip"
    }
   },
   "outputs": [
    {
     "data": {
      "text/plain": [
       "count    84165.000000\n",
       "mean       183.761707\n",
       "std         22.503610\n",
       "min        100.447304\n",
       "25%        171.670273\n",
       "50%        183.710159\n",
       "75%        196.467103\n",
       "max        824.712494\n",
       "Name: Intensity_mean_A01_C03, dtype: float64"
      ]
     },
     "execution_count": 47,
     "metadata": {},
     "output_type": "execute_result"
    }
   ],
   "source": [
    "all0['Intensity_mean_A01_C03'].describe()"
   ]
  },
  {
   "cell_type": "markdown",
   "metadata": {
    "slideshow": {
     "slide_type": "skip"
    }
   },
   "source": [
    "-----"
   ]
  },
  {
   "cell_type": "markdown",
   "metadata": {
    "slideshow": {
     "slide_type": "slide"
    }
   },
   "source": [
    "## Exercise 8.J.\n",
    "\n",
    "Make a 2x2 grid of plots, showing box plots of the mean Intensity of the *Yap* channel for each of the wells D07, D08, D09, D10."
   ]
  },
  {
   "cell_type": "markdown",
   "metadata": {
    "slideshow": {
     "slide_type": "skip"
    }
   },
   "source": [
    "-----"
   ]
  },
  {
   "cell_type": "markdown",
   "metadata": {
    "slideshow": {
     "slide_type": "slide"
    }
   },
   "source": [
    "## Exercise 8.K\n",
    "\n",
    "Modify the above violin plot so that only *one* (non-simmetrical) violin is shown per well: the two halves of the violin should show the distribution for TPlus-positive and TPlus-null data."
   ]
  },
  {
   "cell_type": "markdown",
   "metadata": {},
   "source": [
    "----"
   ]
  },
  {
   "cell_type": "markdown",
   "metadata": {},
   "source": [
    "## Exercise 8.L\n",
    "\n",
    "Make a 2x2 grid of the violin plots, showing only one well per plot."
   ]
  },
  {
   "cell_type": "markdown",
   "metadata": {
    "slideshow": {
     "slide_type": "skip"
    }
   },
   "source": [
    "-----"
   ]
  }
 ],
 "metadata": {
  "anaconda-cloud": {},
  "kernelspec": {
   "display_name": "Python 3",
   "language": "python",
   "name": "python3"
  },
  "language_info": {
   "codemirror_mode": {
    "name": "ipython",
    "version": 3
   },
   "file_extension": ".py",
   "mimetype": "text/x-python",
   "name": "python",
   "nbconvert_exporter": "python",
   "pygments_lexer": "ipython3",
   "version": "3.7.0"
  }
 },
 "nbformat": 4,
 "nbformat_minor": 2
}
